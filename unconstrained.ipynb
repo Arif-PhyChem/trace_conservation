{
  "nbformat": 4,
  "nbformat_minor": 0,
  "metadata": {
    "colab": {
      "provenance": [],
      "gpuType": "T4",
      "authorship_tag": "ABX9TyPhRvEkyY/r4fOhx1s0PxtT",
      "include_colab_link": true
    },
    "kernelspec": {
      "name": "python3",
      "display_name": "Python 3"
    },
    "language_info": {
      "name": "python"
    },
    "accelerator": "GPU"
  },
  "cells": [
    {
      "cell_type": "markdown",
      "metadata": {
        "id": "view-in-github",
        "colab_type": "text"
      },
      "source": [
        "<a href=\"https://colab.research.google.com/github/Arif-PhyChem/trace_conservation/blob/main/unconstrained.ipynb\" target=\"_parent\"><img src=\"https://colab.research.google.com/assets/colab-badge.svg\" alt=\"Open In Colab\"/></a>"
      ]
    },
    {
      "cell_type": "markdown",
      "source": [
        "[![Open In Colab](https://colab.research.google.com/assets/colab-badge.svg)](\n",
        "https://colab.research.google.com/github/Arif-PhyChem/trace_conservation/blob/main/unconstrained.ipynb)"
      ],
      "metadata": {
        "id": "qesUG7jE9wh8"
      }
    },
    {
      "cell_type": "code",
      "execution_count": 1,
      "metadata": {
        "id": "ca5cecd1",
        "outputId": "ea77e62a-f0a8-4156-f560-1b7abd839ee7",
        "colab": {
          "base_uri": "https://localhost:8080/"
        }
      },
      "outputs": [
        {
          "output_type": "stream",
          "name": "stdout",
          "text": [
            "Cloning into 'MLQD'...\n",
            "remote: Enumerating objects: 1044, done.\u001b[K\n",
            "remote: Counting objects: 100% (320/320), done.\u001b[K\n",
            "remote: Compressing objects: 100% (216/216), done.\u001b[K\n",
            "remote: Total 1044 (delta 162), reused 217 (delta 103), pack-reused 724 (from 1)\u001b[K\n",
            "Receiving objects: 100% (1044/1044), 34.99 MiB | 15.59 MiB/s, done.\n",
            "Resolving deltas: 100% (454/454), done.\n"
          ]
        }
      ],
      "source": [
        "import sys\n",
        "import os\n",
        "\n",
        "! git clone https://github.com/Arif-PhyChem/MLQD.git"
      ]
    },
    {
      "cell_type": "code",
      "execution_count": 2,
      "metadata": {
        "id": "e1e1a3dc",
        "outputId": "38007726-7655-4ae1-a3c6-2ae0c07e885d",
        "colab": {
          "base_uri": "https://localhost:8080/"
        }
      },
      "outputs": [
        {
          "output_type": "stream",
          "name": "stdout",
          "text": [
            "Requirement already satisfied: tensorflow in /usr/local/lib/python3.10/dist-packages (2.15.0)\n",
            "Collecting tensorflow\n",
            "  Downloading tensorflow-2.17.0-cp310-cp310-manylinux_2_17_x86_64.manylinux2014_x86_64.whl.metadata (4.2 kB)\n",
            "Requirement already satisfied: absl-py>=1.0.0 in /usr/local/lib/python3.10/dist-packages (from tensorflow) (1.4.0)\n",
            "Requirement already satisfied: astunparse>=1.6.0 in /usr/local/lib/python3.10/dist-packages (from tensorflow) (1.6.3)\n",
            "Requirement already satisfied: flatbuffers>=24.3.25 in /usr/local/lib/python3.10/dist-packages (from tensorflow) (24.3.25)\n",
            "Requirement already satisfied: gast!=0.5.0,!=0.5.1,!=0.5.2,>=0.2.1 in /usr/local/lib/python3.10/dist-packages (from tensorflow) (0.6.0)\n",
            "Requirement already satisfied: google-pasta>=0.1.1 in /usr/local/lib/python3.10/dist-packages (from tensorflow) (0.2.0)\n",
            "Collecting h5py>=3.10.0 (from tensorflow)\n",
            "  Downloading h5py-3.11.0-cp310-cp310-manylinux_2_17_x86_64.manylinux2014_x86_64.whl.metadata (2.5 kB)\n",
            "Requirement already satisfied: libclang>=13.0.0 in /usr/local/lib/python3.10/dist-packages (from tensorflow) (18.1.1)\n",
            "Collecting ml-dtypes<0.5.0,>=0.3.1 (from tensorflow)\n",
            "  Downloading ml_dtypes-0.4.0-cp310-cp310-manylinux_2_17_x86_64.manylinux2014_x86_64.whl.metadata (20 kB)\n",
            "Requirement already satisfied: opt-einsum>=2.3.2 in /usr/local/lib/python3.10/dist-packages (from tensorflow) (3.3.0)\n",
            "Requirement already satisfied: packaging in /usr/local/lib/python3.10/dist-packages (from tensorflow) (24.1)\n",
            "Requirement already satisfied: protobuf!=4.21.0,!=4.21.1,!=4.21.2,!=4.21.3,!=4.21.4,!=4.21.5,<5.0.0dev,>=3.20.3 in /usr/local/lib/python3.10/dist-packages (from tensorflow) (3.20.3)\n",
            "Requirement already satisfied: requests<3,>=2.21.0 in /usr/local/lib/python3.10/dist-packages (from tensorflow) (2.31.0)\n",
            "Requirement already satisfied: setuptools in /usr/local/lib/python3.10/dist-packages (from tensorflow) (71.0.4)\n",
            "Requirement already satisfied: six>=1.12.0 in /usr/local/lib/python3.10/dist-packages (from tensorflow) (1.16.0)\n",
            "Requirement already satisfied: termcolor>=1.1.0 in /usr/local/lib/python3.10/dist-packages (from tensorflow) (2.4.0)\n",
            "Requirement already satisfied: typing-extensions>=3.6.6 in /usr/local/lib/python3.10/dist-packages (from tensorflow) (4.12.2)\n",
            "Requirement already satisfied: wrapt>=1.11.0 in /usr/local/lib/python3.10/dist-packages (from tensorflow) (1.14.1)\n",
            "Requirement already satisfied: grpcio<2.0,>=1.24.3 in /usr/local/lib/python3.10/dist-packages (from tensorflow) (1.64.1)\n",
            "Collecting tensorboard<2.18,>=2.17 (from tensorflow)\n",
            "  Downloading tensorboard-2.17.1-py3-none-any.whl.metadata (1.6 kB)\n",
            "Collecting keras>=3.2.0 (from tensorflow)\n",
            "  Downloading keras-3.5.0-py3-none-any.whl.metadata (5.8 kB)\n",
            "Requirement already satisfied: tensorflow-io-gcs-filesystem>=0.23.1 in /usr/local/lib/python3.10/dist-packages (from tensorflow) (0.37.1)\n",
            "Requirement already satisfied: numpy<2.0.0,>=1.23.5 in /usr/local/lib/python3.10/dist-packages (from tensorflow) (1.25.2)\n",
            "Requirement already satisfied: wheel<1.0,>=0.23.0 in /usr/local/lib/python3.10/dist-packages (from astunparse>=1.6.0->tensorflow) (0.43.0)\n",
            "Requirement already satisfied: rich in /usr/local/lib/python3.10/dist-packages (from keras>=3.2.0->tensorflow) (13.7.1)\n",
            "Collecting namex (from keras>=3.2.0->tensorflow)\n",
            "  Downloading namex-0.0.8-py3-none-any.whl.metadata (246 bytes)\n",
            "Collecting optree (from keras>=3.2.0->tensorflow)\n",
            "  Downloading optree-0.12.1-cp310-cp310-manylinux_2_17_x86_64.manylinux2014_x86_64.whl.metadata (47 kB)\n",
            "\u001b[2K     \u001b[90m━━━━━━━━━━━━━━━━━━━━━━━━━━━━━━━━━━━━━━━━\u001b[0m \u001b[32m47.8/47.8 kB\u001b[0m \u001b[31m2.4 MB/s\u001b[0m eta \u001b[36m0:00:00\u001b[0m\n",
            "\u001b[?25hRequirement already satisfied: charset-normalizer<4,>=2 in /usr/local/lib/python3.10/dist-packages (from requests<3,>=2.21.0->tensorflow) (3.3.2)\n",
            "Requirement already satisfied: idna<4,>=2.5 in /usr/local/lib/python3.10/dist-packages (from requests<3,>=2.21.0->tensorflow) (3.7)\n",
            "Requirement already satisfied: urllib3<3,>=1.21.1 in /usr/local/lib/python3.10/dist-packages (from requests<3,>=2.21.0->tensorflow) (2.0.7)\n",
            "Requirement already satisfied: certifi>=2017.4.17 in /usr/local/lib/python3.10/dist-packages (from requests<3,>=2.21.0->tensorflow) (2024.7.4)\n",
            "Requirement already satisfied: markdown>=2.6.8 in /usr/local/lib/python3.10/dist-packages (from tensorboard<2.18,>=2.17->tensorflow) (3.6)\n",
            "Requirement already satisfied: tensorboard-data-server<0.8.0,>=0.7.0 in /usr/local/lib/python3.10/dist-packages (from tensorboard<2.18,>=2.17->tensorflow) (0.7.2)\n",
            "Requirement already satisfied: werkzeug>=1.0.1 in /usr/local/lib/python3.10/dist-packages (from tensorboard<2.18,>=2.17->tensorflow) (3.0.3)\n",
            "Requirement already satisfied: MarkupSafe>=2.1.1 in /usr/local/lib/python3.10/dist-packages (from werkzeug>=1.0.1->tensorboard<2.18,>=2.17->tensorflow) (2.1.5)\n",
            "Requirement already satisfied: markdown-it-py>=2.2.0 in /usr/local/lib/python3.10/dist-packages (from rich->keras>=3.2.0->tensorflow) (3.0.0)\n",
            "Requirement already satisfied: pygments<3.0.0,>=2.13.0 in /usr/local/lib/python3.10/dist-packages (from rich->keras>=3.2.0->tensorflow) (2.16.1)\n",
            "Requirement already satisfied: mdurl~=0.1 in /usr/local/lib/python3.10/dist-packages (from markdown-it-py>=2.2.0->rich->keras>=3.2.0->tensorflow) (0.1.2)\n",
            "Downloading tensorflow-2.17.0-cp310-cp310-manylinux_2_17_x86_64.manylinux2014_x86_64.whl (601.3 MB)\n",
            "\u001b[2K   \u001b[90m━━━━━━━━━━━━━━━━━━━━━━━━━━━━━━━━━━━━━━━━\u001b[0m \u001b[32m601.3/601.3 MB\u001b[0m \u001b[31m2.9 MB/s\u001b[0m eta \u001b[36m0:00:00\u001b[0m\n",
            "\u001b[?25hDownloading h5py-3.11.0-cp310-cp310-manylinux_2_17_x86_64.manylinux2014_x86_64.whl (5.3 MB)\n",
            "\u001b[2K   \u001b[90m━━━━━━━━━━━━━━━━━━━━━━━━━━━━━━━━━━━━━━━━\u001b[0m \u001b[32m5.3/5.3 MB\u001b[0m \u001b[31m44.1 MB/s\u001b[0m eta \u001b[36m0:00:00\u001b[0m\n",
            "\u001b[?25hDownloading keras-3.5.0-py3-none-any.whl (1.1 MB)\n",
            "\u001b[2K   \u001b[90m━━━━━━━━━━━━━━━━━━━━━━━━━━━━━━━━━━━━━━━━\u001b[0m \u001b[32m1.1/1.1 MB\u001b[0m \u001b[31m37.4 MB/s\u001b[0m eta \u001b[36m0:00:00\u001b[0m\n",
            "\u001b[?25hDownloading ml_dtypes-0.4.0-cp310-cp310-manylinux_2_17_x86_64.manylinux2014_x86_64.whl (2.2 MB)\n",
            "\u001b[2K   \u001b[90m━━━━━━━━━━━━━━━━━━━━━━━━━━━━━━━━━━━━━━━━\u001b[0m \u001b[32m2.2/2.2 MB\u001b[0m \u001b[31m29.9 MB/s\u001b[0m eta \u001b[36m0:00:00\u001b[0m\n",
            "\u001b[?25hDownloading tensorboard-2.17.1-py3-none-any.whl (5.5 MB)\n",
            "\u001b[2K   \u001b[90m━━━━━━━━━━━━━━━━━━━━━━━━━━━━━━━━━━━━━━━━\u001b[0m \u001b[32m5.5/5.5 MB\u001b[0m \u001b[31m47.6 MB/s\u001b[0m eta \u001b[36m0:00:00\u001b[0m\n",
            "\u001b[?25hDownloading namex-0.0.8-py3-none-any.whl (5.8 kB)\n",
            "Downloading optree-0.12.1-cp310-cp310-manylinux_2_17_x86_64.manylinux2014_x86_64.whl (347 kB)\n",
            "\u001b[2K   \u001b[90m━━━━━━━━━━━━━━━━━━━━━━━━━━━━━━━━━━━━━━━━\u001b[0m \u001b[32m347.7/347.7 kB\u001b[0m \u001b[31m23.2 MB/s\u001b[0m eta \u001b[36m0:00:00\u001b[0m\n",
            "\u001b[?25hInstalling collected packages: namex, optree, ml-dtypes, h5py, tensorboard, keras, tensorflow\n",
            "  Attempting uninstall: ml-dtypes\n",
            "    Found existing installation: ml-dtypes 0.2.0\n",
            "    Uninstalling ml-dtypes-0.2.0:\n",
            "      Successfully uninstalled ml-dtypes-0.2.0\n",
            "  Attempting uninstall: h5py\n",
            "    Found existing installation: h5py 3.9.0\n",
            "    Uninstalling h5py-3.9.0:\n",
            "      Successfully uninstalled h5py-3.9.0\n",
            "  Attempting uninstall: tensorboard\n",
            "    Found existing installation: tensorboard 2.15.2\n",
            "    Uninstalling tensorboard-2.15.2:\n",
            "      Successfully uninstalled tensorboard-2.15.2\n",
            "  Attempting uninstall: keras\n",
            "    Found existing installation: keras 2.15.0\n",
            "    Uninstalling keras-2.15.0:\n",
            "      Successfully uninstalled keras-2.15.0\n",
            "  Attempting uninstall: tensorflow\n",
            "    Found existing installation: tensorflow 2.15.0\n",
            "    Uninstalling tensorflow-2.15.0:\n",
            "      Successfully uninstalled tensorflow-2.15.0\n",
            "\u001b[31mERROR: pip's dependency resolver does not currently take into account all the packages that are installed. This behaviour is the source of the following dependency conflicts.\n",
            "tf-keras 2.15.1 requires tensorflow<2.16,>=2.15, but you have tensorflow 2.17.0 which is incompatible.\u001b[0m\u001b[31m\n",
            "\u001b[0mSuccessfully installed h5py-3.11.0 keras-3.5.0 ml-dtypes-0.4.0 namex-0.0.8 optree-0.12.1 tensorboard-2.17.1 tensorflow-2.17.0\n",
            "Collecting sklearn\n",
            "  Downloading sklearn-0.0.post12.tar.gz (2.6 kB)\n",
            "  \u001b[1;31merror\u001b[0m: \u001b[1msubprocess-exited-with-error\u001b[0m\n",
            "  \n",
            "  \u001b[31m×\u001b[0m \u001b[32mpython setup.py egg_info\u001b[0m did not run successfully.\n",
            "  \u001b[31m│\u001b[0m exit code: \u001b[1;36m1\u001b[0m\n",
            "  \u001b[31m╰─>\u001b[0m See above for output.\n",
            "  \n",
            "  \u001b[1;35mnote\u001b[0m: This error originates from a subprocess, and is likely not a problem with pip.\n",
            "  Preparing metadata (setup.py) ... \u001b[?25l\u001b[?25herror\n",
            "\u001b[1;31merror\u001b[0m: \u001b[1mmetadata-generation-failed\u001b[0m\n",
            "\n",
            "\u001b[31m×\u001b[0m Encountered error while generating package metadata.\n",
            "\u001b[31m╰─>\u001b[0m See above for output.\n",
            "\n",
            "\u001b[1;35mnote\u001b[0m: This is an issue with the package mentioned above, not pip.\n",
            "\u001b[1;36mhint\u001b[0m: See above for details.\n",
            "Requirement already satisfied: hyperopt in /usr/local/lib/python3.10/dist-packages (0.2.7)\n",
            "Requirement already satisfied: numpy in /usr/local/lib/python3.10/dist-packages (from hyperopt) (1.25.2)\n",
            "Requirement already satisfied: scipy in /usr/local/lib/python3.10/dist-packages (from hyperopt) (1.11.4)\n",
            "Requirement already satisfied: six in /usr/local/lib/python3.10/dist-packages (from hyperopt) (1.16.0)\n",
            "Requirement already satisfied: networkx>=2.2 in /usr/local/lib/python3.10/dist-packages (from hyperopt) (3.3)\n",
            "Requirement already satisfied: future in /usr/local/lib/python3.10/dist-packages (from hyperopt) (0.18.3)\n",
            "Requirement already satisfied: tqdm in /usr/local/lib/python3.10/dist-packages (from hyperopt) (4.66.4)\n",
            "Requirement already satisfied: cloudpickle in /usr/local/lib/python3.10/dist-packages (from hyperopt) (2.2.1)\n",
            "Requirement already satisfied: py4j in /usr/local/lib/python3.10/dist-packages (from hyperopt) (0.10.9.7)\n"
          ]
        }
      ],
      "source": [
        "# install the required packages\n",
        "\n",
        "! pip install tensorflow --upgrade\n",
        "! pip install sklearn\n",
        "! pip install hyperopt"
      ]
    },
    {
      "cell_type": "code",
      "source": [
        "import numpy as np\n",
        "import tensorflow as tf\n",
        "import matplotlib.pyplot as plt"
      ],
      "metadata": {
        "id": "nflcx59vnOGH"
      },
      "execution_count": 3,
      "outputs": []
    },
    {
      "cell_type": "code",
      "execution_count": 4,
      "metadata": {
        "id": "8e9b292c"
      },
      "outputs": [],
      "source": [
        "# Add MLQD's path to system path\n",
        "\n",
        "mlqd_dir='MLQD/dev_ver'\n",
        "sys.path.append(mlqd_dir)\n",
        "\n",
        "from evolution import quant_dyn\n",
        "\n"
      ]
    },
    {
      "cell_type": "code",
      "source": [
        "# get training and test data files from github\n",
        "! git clone https://github.com/Arif-PhyChem/trace_conservation.git"
      ],
      "metadata": {
        "id": "jA7P5vCdaRIr",
        "outputId": "154e4bfb-9eeb-44f1-e4fd-af8d170d0539",
        "colab": {
          "base_uri": "https://localhost:8080/"
        }
      },
      "execution_count": 5,
      "outputs": [
        {
          "output_type": "stream",
          "name": "stdout",
          "text": [
            "Cloning into 'trace_conservation'...\n",
            "remote: Enumerating objects: 169, done.\u001b[K\n",
            "remote: Counting objects: 100% (59/59), done.\u001b[K\n",
            "remote: Compressing objects: 100% (59/59), done.\u001b[K\n",
            "remote: Total 169 (delta 30), reused 0 (delta 0), pack-reused 110 (from 1)\u001b[K\n",
            "Receiving objects: 100% (169/169), 201.70 MiB | 22.83 MiB/s, done.\n",
            "Resolving deltas: 100% (32/32), done.\n"
          ]
        }
      ]
    },
    {
      "cell_type": "markdown",
      "source": [
        "# Unconstrained NN\n",
        "In the case of unconstrained NN---a single, multi-output CNN is designed to learn all RDM elements, incorporating a loss function that aggregates errors across all states (sites):\n",
        "\n",
        "\\begin{equation}\n",
        "    \\mathcal{L}_\\text{multi} =  \\sum_{n=1}^N \\mathcal{L}_{nn}.\n",
        "\\end{equation}\n",
        "\n",
        "where\n",
        "\\begin{equation}\n",
        "    \\mathcal{L}_{nn} =  \\sum_{m=1}^M \\left(\\bar{\\tilde{\\rho}}_{{\\rm S},nn,m} - \\tilde{\\rho}_{{\\rm S},nn,m} \\right)^2,\n",
        "\\end{equation}\n",
        "\n",
        "with $\\bar{\\tilde{\\rho}}_{{\\rm S},nn}$ as NN-predicted values and $\\tilde{\\rho}_{{\\rm S},nn}$ as the reference counterpart. Furthermore, $M$ is the number of training points and $m$ is the index of a training point.\n",
        "\n",
        "However, despite being exposed to the dynamics of all states, this solution still exhibits minor but noticeable trace violations.\n",
        "\n",
        "To facilitate the training process, we provide pre-prepared training files named 'x.npy' and 'y.npy'. However, if you wish to create your own training files, you can utilize the MLQD tool, available on GitHub at https://github.com/Arif-PhyChem/MLQD, in conjunction with the SB dataset from the QD3SET-1 database, which can be accessed via the DOI link https://doi.org/10.25452/figshare.plus.c.6389553"
      ],
      "metadata": {
        "id": "nbhZm6eHCZdx"
      }
    },
    {
      "cell_type": "markdown",
      "source": [
        "## Unconstrained CNN model for SB model with MLQD\n",
        "\n",
        "For quick run, we are setting training epochs 'TrEpochs' to 10, you should set it to a higher number for better training\n",
        "\n"
      ],
      "metadata": {
        "id": "Gby5NTeAOayC"
      }
    },
    {
      "cell_type": "code",
      "source": [
        "# sb training files (x and y) for unconstrained NN provided at Zenodo\n",
        "! wget --content-disposition https://zenodo.org/records/13446756/files/training_data.zip?download=1"
      ],
      "metadata": {
        "id": "QvYABW1-ak5P",
        "outputId": "11871977-4a37-493c-c503-dae1a68b6aaf",
        "colab": {
          "base_uri": "https://localhost:8080/"
        }
      },
      "execution_count": 6,
      "outputs": [
        {
          "output_type": "stream",
          "name": "stdout",
          "text": [
            "--2024-09-03 06:15:31--  https://zenodo.org/records/13446756/files/training_data.zip?download=1\n",
            "Resolving zenodo.org (zenodo.org)... 188.184.103.159, 188.184.98.238, 188.185.79.172, ...\n",
            "Connecting to zenodo.org (zenodo.org)|188.184.103.159|:443... connected.\n",
            "HTTP request sent, awaiting response... 200 OK\n",
            "Length: 380879719 (363M) [application/octet-stream]\n",
            "Saving to: ‘training_data.zip’\n",
            "\n",
            "training_data.zip   100%[===================>] 363.23M  21.8MB/s    in 18s     \n",
            "\n",
            "2024-09-03 06:15:49 (20.1 MB/s) - ‘training_data.zip’ saved [380879719/380879719]\n",
            "\n"
          ]
        }
      ]
    },
    {
      "cell_type": "code",
      "source": [
        "# Unzip it\n",
        "! unzip training_data"
      ],
      "metadata": {
        "outputId": "60741310-fcac-4697-b8dd-6e99806a1a85",
        "colab": {
          "base_uri": "https://localhost:8080/"
        },
        "id": "4_J8y7w6Eotb"
      },
      "execution_count": 7,
      "outputs": [
        {
          "output_type": "stream",
          "name": "stdout",
          "text": [
            "Archive:  training_data.zip\n",
            "   creating: training_data/\n",
            "   creating: training_data/fmo/\n",
            "   creating: training_data/fmo/hc_pinn/\n",
            "  inflating: training_data/fmo/hc_pinn/x.npy  \n",
            "  inflating: training_data/fmo/hc_pinn/y01.npy  \n",
            "   creating: training_data/fmo/physics_agnostic/\n",
            "   creating: training_data/fmo/physics_agnostic/site_1/\n",
            "  inflating: training_data/fmo/physics_agnostic/site_1/x.npy  \n",
            "  inflating: training_data/fmo/physics_agnostic/site_1/y.npy  \n",
            "   creating: training_data/fmo/physics_agnostic/site_2/\n",
            "  inflating: training_data/fmo/physics_agnostic/site_2/x.npy  \n",
            "  inflating: training_data/fmo/physics_agnostic/site_2/y.npy  \n",
            "   creating: training_data/fmo/physics_agnostic/site_3/\n",
            "  inflating: training_data/fmo/physics_agnostic/site_3/x.npy  \n",
            "  inflating: training_data/fmo/physics_agnostic/site_3/y.npy  \n",
            "   creating: training_data/fmo/physics_agnostic/site_4/\n",
            "  inflating: training_data/fmo/physics_agnostic/site_4/x.npy  \n",
            "  inflating: training_data/fmo/physics_agnostic/site_4/y.npy  \n",
            "   creating: training_data/fmo/physics_agnostic/site_5/\n",
            "  inflating: training_data/fmo/physics_agnostic/site_5/x.npy  \n",
            "  inflating: training_data/fmo/physics_agnostic/site_5/y.npy  \n",
            "   creating: training_data/fmo/physics_agnostic/site_6/\n",
            "  inflating: training_data/fmo/physics_agnostic/site_6/x.npy  \n",
            "  inflating: training_data/fmo/physics_agnostic/site_6/y.npy  \n",
            "   creating: training_data/fmo/physics_agnostic/site_7/\n",
            "  inflating: training_data/fmo/physics_agnostic/site_7/x.npy  \n",
            "  inflating: training_data/fmo/physics_agnostic/site_7/y.npy  \n",
            "   creating: training_data/fmo/pinn/\n",
            "  inflating: training_data/fmo/pinn/x.npy  \n",
            "  inflating: training_data/fmo/pinn/y.npy  \n",
            "   creating: training_data/fmo/unconstrained/\n",
            "  inflating: training_data/fmo/unconstrained/x.npy  \n",
            "  inflating: training_data/fmo/unconstrained/y.npy  \n",
            "   creating: training_data/sb/\n",
            "   creating: training_data/sb/hc_pinn/\n",
            "  inflating: training_data/sb/hc_pinn/x.npy  \n",
            "  inflating: training_data/sb/hc_pinn/y01.npy  \n",
            "   creating: training_data/sb/physics_agnostic/\n",
            "   creating: training_data/sb/physics_agnostic/state_1/\n",
            "  inflating: training_data/sb/physics_agnostic/state_1/x.npy  \n",
            "  inflating: training_data/sb/physics_agnostic/state_1/y.npy  \n",
            "   creating: training_data/sb/physics_agnostic/state_2/\n",
            "  inflating: training_data/sb/physics_agnostic/state_2/x.npy  \n",
            "  inflating: training_data/sb/physics_agnostic/state_2/y.npy  \n",
            "   creating: training_data/sb/pinn/\n",
            "  inflating: training_data/sb/pinn/x.npy  \n",
            "  inflating: training_data/sb/pinn/y.npy  \n",
            "   creating: training_data/sb/unconstrained/\n",
            "  inflating: training_data/sb/unconstrained/x.npy  \n",
            "  inflating: training_data/sb/unconstrained/y.npy  \n"
          ]
        }
      ]
    },
    {
      "cell_type": "code",
      "execution_count": 8,
      "metadata": {
        "id": "742a43b6",
        "outputId": "8c5378fe-58b4-4500-ea27-117928599787",
        "colab": {
          "base_uri": "https://localhost:8080/"
        }
      },
      "outputs": [
        {
          "output_type": "stream",
          "name": "stdout",
          "text": [
            "=================================================================\n",
            "MLQD is a python package developed for Machine Learning-based Quantum Dissipative Dynamics,\n",
            " \t\t\t\t  Version 1.1.1\n",
            "\t\t\t https://github.com/Arif-PhyChem/MLQD\n",
            "\n",
            " \t\t\t Copyright (c) 2023 Arif Ullah\n",
            "\n",
            "All rights reserved. This work is licensed under the Apache Software License 2.0\n",
            "\n",
            "\n",
            "The above copyright notice and this permission notice shall be included \n",
            "in all copies or substantial portions of the Software.\n",
            "\n",
            "\n",
            "The software is provided \"as is\" without warranty of any kind, express or implied, \n",
            "including but not limited to the warranties ofmerchantability, fitness for a particular \n",
            "purpose and noninfringement. In no event shall the authors or copyright holders be \n",
            "liable for any claim, damages or other liability, whether in an action of contract, tort or otherwise, \n",
            "arising from, out of or in connection with the software or the use or other dealings in the software.\n",
            "\n",
            "\n",
            "\t\t\t\t Cite as:\n",
            "\n",
            "1) Ullah A. and Dral P. O., Computer Physics Communications, 2023, 294, 108940\n",
            "2) Ullah A. and Dral P. O., New Journal of Physics, 2021, 23(11), 113019\n",
            "3) Ullah A. and Dral P. O., Nature Communications, 2022, 13(1), 1930\n",
            "4) Ullah A. and Dral P. O., Journal of Physical Chemistry Letters, 2022, 13(26), 6037\n",
            "5) Rodriguez L. E. H.; Ullah A.; Espinosa K. J. R.; Dral P. O. and Kananenka A. A., Machine Learning: Science and Technology, 2022, 3(4), 045016\n",
            "6) Ullah, A., Rodriguez, L. E. H., Dral P. O., and Kananenka, A. A., Frontiers in Physics, 2023, 11, 1223973\n",
            "\n",
            "Contributers List:\n",
            "\n",
            "1) Arif Ullah (main) \n",
            "2) Pavlo O. Dral\n",
            "=================================================================\n",
            "MLQD is started at 2024-09-03 06:15:59.389917\n",
            "=================================================================\n",
            "Setting \"systemType\" to SB\n",
            "MLQD is running with the option QDmodel =  createQDmodel\n",
            "Setting ML Model Type \"QDmodelType\" to RCDYN\n",
            "Setting number of states \"n_states\" to 2\n",
            "You have chosen not to prepare the input files, othewise you should pass \"True\" to prepInput\n",
            "Setting \"MLmodel\" to default option cnn\n",
            "Xfilein is training_data/sb/unconstrained/x\n",
            "YfileIn is training_data/sb/unconstrained/y\n",
            "You have chosen not to optimize the hyper parameters of the model, otherwise you should pass \"True\" to hyperParam\n",
            "=================================================================\n",
            "Setting patience for early stopping to 30\n",
            "Setting number of epochs for training to 10\n",
            "Running with the default value of gamma normalizeer; gammaNorm = 10 \n",
            "Running with the default value of lambda normalizer; lambNorm = 1.0 \n",
            "Running with the default value of temperature (or inverse temperature) normalizer; tempNorm = 1.0 \n",
            "=================================================================\n",
            "Setting length of x-input \"xlength\" to default value 81\n",
            "Running with the the dafault propagation time: 20\n",
            "Running with the dafault time-step: 0.05\n",
            "Running with default option: pinn=False, training an unconstrained neural network (PINN)\n",
            "Running with default prior option 0 with no trace conservation\n",
            "=================================================================\n",
            "Running with default option: ostl_steps =  1\n",
            "Normalization constants are dumped at norm_const.pkl\n",
            "=================================================================\n",
            "Data: Checking to see whether the input data files training_data/sb/unconstrained/x.npy and training_data/sb/unconstrained/y.npy exist\n",
            "Data: Loading data files training_data/sb/unconstrained/x.npy and training_data/sb/unconstrained/y.npy\n",
            "Data: splitting data into sub-training/validation sets with 80/20 % ratio\n",
            "=================================================================\n",
            "ml_model.cnn: Looking for best_cnn_params.pkl\n",
            "=================================================================\n",
            "ml_models.cnn: best_cnn_params.pkl not found, thus training CNN model with the default structure\n",
            "=================================================================\n",
            "ml_models.cnn: Running wth EarlyStopping of patience = 30\n",
            "ml_models.cnn: Running with batch size = 64 and epochs = 10\n",
            "=================================================================\n"
          ]
        },
        {
          "output_type": "stream",
          "name": "stderr",
          "text": [
            "/usr/local/lib/python3.10/dist-packages/keras/src/layers/convolutional/base_conv.py:107: UserWarning: Do not pass an `input_shape`/`input_dim` argument to a layer. When using Sequential models, prefer using an `Input(shape)` object as the first layer in the model instead.\n",
            "  super().__init__(activity_regularizer=activity_regularizer, **kwargs)\n"
          ]
        },
        {
          "output_type": "stream",
          "name": "stdout",
          "text": [
            "Directory trained_models created sucessfully where the trained models will be saved\n",
            "Epoch 1/10\n",
            "\n",
            "Epoch 1: val_loss improved from inf to 0.00264, saving model to trained_models/SB_cnn_model-01-tloss-1.978e-02-vloss-2.644e-03.keras\n",
            "90/90 - 10s - 111ms/step - loss: 0.0198 - val_loss: 0.0026\n",
            "Epoch 2/10\n",
            "\n",
            "Epoch 2: val_loss improved from 0.00264 to 0.00041, saving model to trained_models/SB_cnn_model-02-tloss-1.149e-03-vloss-4.100e-04.keras\n",
            "90/90 - 0s - 5ms/step - loss: 0.0011 - val_loss: 4.1002e-04\n",
            "Epoch 3/10\n",
            "\n",
            "Epoch 3: val_loss improved from 0.00041 to 0.00011, saving model to trained_models/SB_cnn_model-03-tloss-2.049e-04-vloss-1.084e-04.keras\n",
            "90/90 - 1s - 7ms/step - loss: 2.0495e-04 - val_loss: 1.0842e-04\n",
            "Epoch 4/10\n",
            "\n",
            "Epoch 4: val_loss improved from 0.00011 to 0.00007, saving model to trained_models/SB_cnn_model-04-tloss-9.792e-05-vloss-7.062e-05.keras\n",
            "90/90 - 1s - 7ms/step - loss: 9.7924e-05 - val_loss: 7.0619e-05\n",
            "Epoch 5/10\n",
            "\n",
            "Epoch 5: val_loss improved from 0.00007 to 0.00005, saving model to trained_models/SB_cnn_model-05-tloss-6.856e-05-vloss-4.770e-05.keras\n",
            "90/90 - 1s - 7ms/step - loss: 6.8563e-05 - val_loss: 4.7699e-05\n",
            "Epoch 6/10\n",
            "\n",
            "Epoch 6: val_loss did not improve from 0.00005\n",
            "90/90 - 0s - 5ms/step - loss: 5.3523e-05 - val_loss: 5.5725e-05\n",
            "Epoch 7/10\n",
            "\n",
            "Epoch 7: val_loss improved from 0.00005 to 0.00004, saving model to trained_models/SB_cnn_model-07-tloss-4.950e-05-vloss-3.846e-05.keras\n",
            "90/90 - 1s - 8ms/step - loss: 4.9499e-05 - val_loss: 3.8460e-05\n",
            "Epoch 8/10\n",
            "\n",
            "Epoch 8: val_loss did not improve from 0.00004\n",
            "90/90 - 1s - 6ms/step - loss: 4.4690e-05 - val_loss: 4.6897e-05\n",
            "Epoch 9/10\n",
            "\n",
            "Epoch 9: val_loss did not improve from 0.00004\n",
            "90/90 - 1s - 7ms/step - loss: 4.0848e-05 - val_loss: 7.3085e-05\n",
            "Epoch 10/10\n",
            "\n",
            "Epoch 10: val_loss improved from 0.00004 to 0.00003, saving model to trained_models/SB_cnn_model-10-tloss-4.159e-05-vloss-3.146e-05.keras\n",
            "90/90 - 1s - 6ms/step - loss: 4.1593e-05 - val_loss: 3.1464e-05\n",
            "Train_ml.RCDYN: Time taken for training = 17.683828592300415 sec\n",
            "=================================================================\n",
            "=================================================================\n",
            "MLQD is ended at 2024-09-03 06:16:17.077482\n"
          ]
        },
        {
          "output_type": "execute_result",
          "data": {
            "text/plain": [
              "<evolution.quant_dyn at 0x79d725102fe0>"
            ]
          },
          "metadata": {},
          "execution_count": 8
        }
      ],
      "source": [
        "# input for MLQD package, more details are given at https://github.com/Arif-PhyChem/MLQD\n",
        "param={\n",
        "    'n_states': 2,\n",
        "      'QDmodel': 'createQDmodel',     # str: create QD model. The dafault option is useQDmodel\n",
        "      'QDmodelType': 'RCDYN',           # str: The type of model. Here KRR and the default option is OSTL\n",
        "      'prepInput' : 'False',           # str: Prepare input files from the data (Default 'False')\n",
        "      'XfileIn': 'training_data/sb/unconstrained/x',  # str: (Optional) The prepared X file\n",
        "      'YfileIn': 'training_data/sb/unconstrained/y',  # str: (Optional) The prepared Y file\n",
        "      'hyperParam': 'False',  # str: Default is 'False', we can pass 'True' (optimize the hyperparameters) or 'False' (don't optimize and run with the default values)\n",
        "      'patience': 30,\n",
        "      'OptEpochs': 30,\n",
        "      'TrEpochs': 10,\n",
        "      'max_evals': 30,\n",
        "      'systemType': 'SB'\n",
        "      }\n",
        "quant_dyn(**param)\n",
        "\n"
      ]
    },
    {
      "cell_type": "markdown",
      "source": [
        "## Test for a test trajectory."
      ],
      "metadata": {
        "id": "_1LQlzmnLKQE"
      }
    },
    {
      "cell_type": "code",
      "source": [
        "# Grab trained SB model with large epoch number\n",
        "\n",
        "from datetime import datetime\n",
        "\n",
        "# Directory containing the models\n",
        "model_dir = \"trained_models\"\n",
        "\n",
        "# List all models in the directory\n",
        "models = [f for f in os.listdir(model_dir) if f.startswith(\"SB\") and f.endswith(\".keras\")]\n",
        "\n",
        "# Get file paths and their timestamps\n",
        "model_paths = [os.path.join(model_dir, f) for f in models]\n",
        "model_info = [(f, os.path.getmtime(f)) for f in model_paths]\n",
        "\n",
        "# Sort models by timestamp\n",
        "sorted_models = sorted(model_info, key=lambda x: x[1])\n",
        "\n",
        "trained_models = {}\n",
        "\n",
        "for model, timestamp in sorted_models:\n",
        "  model_name = model.split(\"/\")[1]\n",
        "  epoch_number = int(model_name.split(\"-\")[1])\n",
        "\n",
        "  trained_models[epoch_number] = model\n",
        "\n",
        "# Find the maximum epoch number\n",
        "max_epoch = max(trained_models.keys())\n",
        "\n",
        "# Get the model with the largest epoch number\n",
        "max_epoch_model = trained_models[max_epoch]\n",
        "\n",
        "print(\"Model with the largest epoch:\", max_epoch_model)"
      ],
      "metadata": {
        "id": "HPYKTNqHhSUf",
        "outputId": "123a1db9-858a-41be-e444-9bb4ab9f548e",
        "colab": {
          "base_uri": "https://localhost:8080/"
        }
      },
      "execution_count": 27,
      "outputs": [
        {
          "output_type": "stream",
          "name": "stdout",
          "text": [
            "Model with the largest epoch: trained_models/SB_cnn_model-10-tloss-4.159e-05-vloss-3.146e-05.keras\n"
          ]
        }
      ]
    },
    {
      "cell_type": "code",
      "source": [
        "# test tarjectory\n",
        "! ls trace_conservation/test_data/sb/"
      ],
      "metadata": {
        "colab": {
          "base_uri": "https://localhost:8080/"
        },
        "id": "C_sVIUjdQemH",
        "outputId": "80309ea9-1c20-4552-9889-c3549fc78571"
      },
      "execution_count": null,
      "outputs": [
        {
          "output_type": "stream",
          "name": "stdout",
          "text": [
            "2_epsilon-0.0_Delta-1.0_lambda-0.6_gamma-9.0_beta-1.0.npy\n"
          ]
        }
      ]
    },
    {
      "cell_type": "code",
      "execution_count": 17,
      "metadata": {
        "id": "c5e6a6b5-86f5-42f2-a1df-b7ad9422d466",
        "colab": {
          "base_uri": "https://localhost:8080/",
          "height": 1000
        },
        "outputId": "f33271ea-49b6-49aa-da39-867d4e951c90"
      },
      "outputs": [
        {
          "output_type": "stream",
          "name": "stdout",
          "text": [
            "=================================================================\n",
            "MLQD is a python package developed for Machine Learning-based Quantum Dissipative Dynamics,\n",
            " \t\t\t\t  Version 1.1.1\n",
            "\t\t\t https://github.com/Arif-PhyChem/MLQD\n",
            "\n",
            " \t\t\t Copyright (c) 2023 Arif Ullah\n",
            "\n",
            "All rights reserved. This work is licensed under the Apache Software License 2.0\n",
            "\n",
            "\n",
            "The above copyright notice and this permission notice shall be included \n",
            "in all copies or substantial portions of the Software.\n",
            "\n",
            "\n",
            "The software is provided \"as is\" without warranty of any kind, express or implied, \n",
            "including but not limited to the warranties ofmerchantability, fitness for a particular \n",
            "purpose and noninfringement. In no event shall the authors or copyright holders be \n",
            "liable for any claim, damages or other liability, whether in an action of contract, tort or otherwise, \n",
            "arising from, out of or in connection with the software or the use or other dealings in the software.\n",
            "\n",
            "\n",
            "\t\t\t\t Cite as:\n",
            "\n",
            "1) Ullah A. and Dral P. O., Computer Physics Communications, 2023, 294, 108940\n",
            "2) Ullah A. and Dral P. O., New Journal of Physics, 2021, 23(11), 113019\n",
            "3) Ullah A. and Dral P. O., Nature Communications, 2022, 13(1), 1930\n",
            "4) Ullah A. and Dral P. O., Journal of Physical Chemistry Letters, 2022, 13(26), 6037\n",
            "5) Rodriguez L. E. H.; Ullah A.; Espinosa K. J. R.; Dral P. O. and Kananenka A. A., Machine Learning: Science and Technology, 2022, 3(4), 045016\n",
            "6) Ullah, A., Rodriguez, L. E. H., Dral P. O., and Kananenka, A. A., Frontiers in Physics, 2023, 11, 1223973\n",
            "\n",
            "Contributers List:\n",
            "\n",
            "1) Arif Ullah (main) \n",
            "2) Pavlo O. Dral\n",
            "=================================================================\n",
            "MLQD is started at 2024-09-03 06:20:02.957281\n",
            "=================================================================\n",
            "Setting \"systemType\" to SB\n",
            "MLQD is running with the option QDmodel =  useQDmodel\n",
            "Setting ML Model Type \"QDmodelType\" to RCDYN\n",
            "Setting number of states \"n_states\" to 2\n",
            "Setting propagation time \"time\" to 10\n",
            "Running with the dafault time-step: 0.05\n",
            "Using the trained model(s) \"trained_models/SB_cnn_model-10-tloss-4.159e-05-vloss-3.146e-05.keras\" for dynamics prediction\n",
            "As energy difference is not provided, the ML-QD is running with the dafault option energyDiff = 0.0\n",
            "As tunneling is not provided, the ML-QD is running with the dafault option Delta = 1.0\n",
            "Setting cutt-off frequency \"gamma\" to 9.0\n",
            "Setting system-bath coupling strength \"lambda\" to 0.6\n",
            "Setting temperature (or inverse temperature) value \"temp\" to 1.0\n",
            "=================================================================\n",
            "evolution: Looking for norm_const.pkl\n",
            "Reading normalization constants from norm_const.pkl\n",
            "=================================================================\n",
            "Setting gamma normalizeer \"gammaNorm\" to 10.0\n",
            "Setting lambda normalizer \"lambNormalizer\" to 1.0\n",
            "Setting temperature (or inverse temperature) normalizer \"tempNorm\" to 1.0\n",
            "The input is = [[ 1.00000000e+00+0.j          0.00000000e+00+0.j\n",
            "   0.00000000e+00+0.j          0.00000000e+00+0.j        ]\n",
            " [ 9.97529306e-01+0.j         -3.54603392e-04+0.04905176j\n",
            "  -3.54603392e-04-0.04905176j  2.47069446e-03+0.j        ]\n",
            " [ 9.90281757e-01+0.j         -2.24684600e-03+0.09537154j\n",
            "  -2.24684600e-03-0.09537154j  9.71824309e-03+0.j        ]\n",
            " [ 9.78568280e-01+0.j         -6.04519179e-03+0.13830454j\n",
            "  -6.04519179e-03-0.13830454j  2.14317197e-02+0.j        ]\n",
            " [ 9.62742487e-01+0.j         -1.15225394e-02+0.17759308j\n",
            "  -1.15225394e-02-0.17759308j  3.72575134e-02+0.j        ]\n",
            " [ 9.43174278e-01+0.j         -1.82703150e-02+0.21314543j\n",
            "  -1.82703150e-02-0.21314543j  5.68257217e-02+0.j        ]\n",
            " [ 9.20238605e-01+0.j         -2.58823290e-02+0.24494266j\n",
            "  -2.58823290e-02-0.24494266j  7.97613945e-02+0.j        ]\n",
            " [ 8.94304809e-01+0.j         -3.40228707e-02+0.27298855j\n",
            "  -3.40228707e-02-0.27298855j  1.05695191e-01+0.j        ]\n",
            " [ 8.65752368e-01+0.j         -4.24366346e-02+0.2973146j\n",
            "  -4.24366346e-02-0.2973146j   1.34247632e-01+0.j        ]\n",
            " [ 8.34951176e-01+0.j         -5.09426968e-02+0.31795071j\n",
            "  -5.09426968e-02-0.31795071j  1.65048824e-01+0.j        ]\n",
            " [ 8.02257559e-01+0.j         -5.94164865e-02+0.3349082j\n",
            "  -5.94164865e-02-0.3349082j   1.97742441e-01+0.j        ]\n",
            " [ 7.68053071e-01+0.j         -6.77766735e-02+0.34826546j\n",
            "  -6.77766735e-02-0.34826546j  2.31946929e-01+0.j        ]\n",
            " [ 7.32694750e-01+0.j         -7.59720083e-02+0.35808166j\n",
            "  -7.59720083e-02-0.35808166j  2.67305250e-01+0.j        ]\n",
            " [ 6.96532923e-01+0.j         -8.39712637e-02+0.36443024j\n",
            "  -8.39712637e-02-0.36443024j  3.03467077e-01+0.j        ]\n",
            " [ 6.59909892e-01+0.j         -9.17566845e-02+0.36740199j\n",
            "  -9.17566845e-02-0.36740199j  3.40090108e-01+0.j        ]\n",
            " [ 6.23157934e-01+0.j         -9.93193865e-02+0.36710588j\n",
            "  -9.93193865e-02-0.36710588j  3.76842066e-01+0.j        ]\n",
            " [ 5.86597455e-01+0.j         -1.06656213e-01+0.36366915j\n",
            "  -1.06656213e-01-0.36366915j  4.13402545e-01+0.j        ]\n",
            " [ 5.50535193e-01+0.j         -1.13767676e-01+0.35723735j\n",
            "  -1.13767676e-01-0.35723735j  4.49464807e-01+0.j        ]\n",
            " [ 5.15262438e-01+0.j         -1.20656592e-01+0.34797362j\n",
            "  -1.20656592e-01-0.34797362j  4.84737562e-01+0.j        ]\n",
            " [ 4.81053385e-01+0.j         -1.27327184e-01+0.33605742j\n",
            "  -1.27327184e-01-0.33605742j  5.18946615e-01+0.j        ]\n",
            " [ 4.48163343e-01+0.j         -1.33784555e-01+0.32168355j\n",
            "  -1.33784555e-01-0.32168355j  5.51836657e-01+0.j        ]\n",
            " [ 4.16827667e-01+0.j         -1.40034254e-01+0.30505965j\n",
            "  -1.40034254e-01-0.30505965j  5.83172333e-01+0.j        ]\n",
            " [ 3.87260091e-01+0.j         -1.46082114e-01+0.28640508j\n",
            "  -1.46082114e-01-0.28640508j  6.12739909e-01+0.j        ]\n",
            " [ 3.59652423e-01+0.j         -1.51934010e-01+0.265948j\n",
            "  -1.51934010e-01-0.265948j    6.40347577e-01+0.j        ]\n",
            " [ 3.34172590e-01+0.j         -1.57595888e-01+0.2439244j\n",
            "  -1.57595888e-01-0.2439244j   6.65827410e-01+0.j        ]\n",
            " [ 3.10964882e-01+0.j         -1.63073609e-01+0.22057504j\n",
            "  -1.63073609e-01-0.22057504j  6.89035118e-01+0.j        ]\n",
            " [ 2.90149404e-01+0.j         -1.68372934e-01+0.19614357j\n",
            "  -1.68372934e-01-0.19614357j  7.09850596e-01+0.j        ]\n",
            " [ 2.71821900e-01+0.j         -1.73499497e-01+0.17087439j\n",
            "  -1.73499497e-01-0.17087439j  7.28178100e-01+0.j        ]\n",
            " [ 2.56053804e-01+0.j         -1.78458798e-01+0.14501068j\n",
            "  -1.78458798e-01-0.14501068j  7.43946196e-01+0.j        ]\n",
            " [ 2.42892167e-01+0.j         -1.83256201e-01+0.1187924j\n",
            "  -1.83256201e-01-0.1187924j   7.57107833e-01+0.j        ]\n",
            " [ 2.32360430e-01+0.j         -1.87896920e-01+0.09245433j\n",
            "  -1.87896920e-01-0.09245433j  7.67639570e-01+0.j        ]\n",
            " [ 2.24459084e-01+0.j         -1.92386003e-01+0.0662243j\n",
            "  -1.92386003e-01-0.0662243j   7.75540916e-01+0.j        ]\n",
            " [ 2.19165880e-01+0.j         -1.96728374e-01+0.04032149j\n",
            "  -1.96728374e-01-0.04032149j  7.80834120e-01+0.j        ]\n",
            " [ 2.16437084e-01+0.j         -2.00928809e-01+0.01495476j\n",
            "  -2.00928809e-01-0.01495476j  7.83562916e-01+0.j        ]\n",
            " [ 2.16208904e-01+0.j         -2.04991924e-01-0.00967864j\n",
            "  -2.04991924e-01+0.00967864j  7.83791096e-01+0.j        ]\n",
            " [ 2.18398568e-01+0.j         -2.08922186e-01-0.03339436j\n",
            "  -2.08922186e-01+0.03339436j  7.81601432e-01+0.j        ]\n",
            " [ 2.22905527e-01+0.j         -2.12723922e-01-0.05602208j\n",
            "  -2.12723922e-01+0.05602208j  7.77094473e-01+0.j        ]\n",
            " [ 2.29612898e-01+0.j         -2.16401328e-01-0.07740653j\n",
            "  -2.16401328e-01+0.07740653j  7.70387102e-01+0.j        ]\n",
            " [ 2.38389065e-01+0.j         -2.19958463e-01-0.09740828j\n",
            "  -2.19958463e-01+0.09740828j  7.61610935e-01+0.j        ]\n",
            " [ 2.49089505e-01+0.j         -2.23399243e-01-0.11590418j\n",
            "  -2.23399243e-01+0.11590418j  7.50910495e-01+0.j        ]\n",
            " [ 2.61557926e-01+0.j         -2.26727479e-01-0.13278832j\n",
            "  -2.26727479e-01+0.13278832j  7.38442074e-01+0.j        ]]\n",
            "You have chosen not to impose the constraint of trace conservation, otherwise you should pass \"True\" to cons_trace\n",
            "=================================================================\n",
            "Running with default prior option 0 with no trace conservation\n",
            "=================================================================\n",
            "Running with ostl_steps =  20\n"
          ]
        },
        {
          "output_type": "display_data",
          "data": {
            "text/plain": [
              "\u001b[1mModel: \"sequential\"\u001b[0m\n"
            ],
            "text/html": [
              "<pre style=\"white-space:pre;overflow-x:auto;line-height:normal;font-family:Menlo,'DejaVu Sans Mono',consolas,'Courier New',monospace\"><span style=\"font-weight: bold\">Model: \"sequential\"</span>\n",
              "</pre>\n"
            ]
          },
          "metadata": {}
        },
        {
          "output_type": "display_data",
          "data": {
            "text/plain": [
              "┏━━━━━━━━━━━━━━━━━━━━━━━━━━━━━━━━━━━━━━┳━━━━━━━━━━━━━━━━━━━━━━━━━━━━━┳━━━━━━━━━━━━━━━━━┓\n",
              "┃\u001b[1m \u001b[0m\u001b[1mLayer (type)                        \u001b[0m\u001b[1m \u001b[0m┃\u001b[1m \u001b[0m\u001b[1mOutput Shape               \u001b[0m\u001b[1m \u001b[0m┃\u001b[1m \u001b[0m\u001b[1m        Param #\u001b[0m\u001b[1m \u001b[0m┃\n",
              "┡━━━━━━━━━━━━━━━━━━━━━━━━━━━━━━━━━━━━━━╇━━━━━━━━━━━━━━━━━━━━━━━━━━━━━╇━━━━━━━━━━━━━━━━━┩\n",
              "│ conv1d (\u001b[38;5;33mConv1D\u001b[0m)                      │ (\u001b[38;5;45mNone\u001b[0m, \u001b[38;5;34m165\u001b[0m, \u001b[38;5;34m80\u001b[0m)             │             \u001b[38;5;34m320\u001b[0m │\n",
              "├──────────────────────────────────────┼─────────────────────────────┼─────────────────┤\n",
              "│ conv1d_1 (\u001b[38;5;33mConv1D\u001b[0m)                    │ (\u001b[38;5;45mNone\u001b[0m, \u001b[38;5;34m165\u001b[0m, \u001b[38;5;34m110\u001b[0m)            │          \u001b[38;5;34m26,510\u001b[0m │\n",
              "├──────────────────────────────────────┼─────────────────────────────┼─────────────────┤\n",
              "│ conv1d_2 (\u001b[38;5;33mConv1D\u001b[0m)                    │ (\u001b[38;5;45mNone\u001b[0m, \u001b[38;5;34m165\u001b[0m, \u001b[38;5;34m80\u001b[0m)             │          \u001b[38;5;34m26,480\u001b[0m │\n",
              "├──────────────────────────────────────┼─────────────────────────────┼─────────────────┤\n",
              "│ max_pooling1d (\u001b[38;5;33mMaxPooling1D\u001b[0m)         │ (\u001b[38;5;45mNone\u001b[0m, \u001b[38;5;34m82\u001b[0m, \u001b[38;5;34m80\u001b[0m)              │               \u001b[38;5;34m0\u001b[0m │\n",
              "├──────────────────────────────────────┼─────────────────────────────┼─────────────────┤\n",
              "│ flatten (\u001b[38;5;33mFlatten\u001b[0m)                    │ (\u001b[38;5;45mNone\u001b[0m, \u001b[38;5;34m6560\u001b[0m)                │               \u001b[38;5;34m0\u001b[0m │\n",
              "├──────────────────────────────────────┼─────────────────────────────┼─────────────────┤\n",
              "│ dense (\u001b[38;5;33mDense\u001b[0m)                        │ (\u001b[38;5;45mNone\u001b[0m, \u001b[38;5;34m32\u001b[0m)                  │         \u001b[38;5;34m209,952\u001b[0m │\n",
              "├──────────────────────────────────────┼─────────────────────────────┼─────────────────┤\n",
              "│ dense_1 (\u001b[38;5;33mDense\u001b[0m)                      │ (\u001b[38;5;45mNone\u001b[0m, \u001b[38;5;34m128\u001b[0m)                 │           \u001b[38;5;34m4,224\u001b[0m │\n",
              "├──────────────────────────────────────┼─────────────────────────────┼─────────────────┤\n",
              "│ dense_2 (\u001b[38;5;33mDense\u001b[0m)                      │ (\u001b[38;5;45mNone\u001b[0m, \u001b[38;5;34m80\u001b[0m)                  │          \u001b[38;5;34m10,320\u001b[0m │\n",
              "└──────────────────────────────────────┴─────────────────────────────┴─────────────────┘\n"
            ],
            "text/html": [
              "<pre style=\"white-space:pre;overflow-x:auto;line-height:normal;font-family:Menlo,'DejaVu Sans Mono',consolas,'Courier New',monospace\">┏━━━━━━━━━━━━━━━━━━━━━━━━━━━━━━━━━━━━━━┳━━━━━━━━━━━━━━━━━━━━━━━━━━━━━┳━━━━━━━━━━━━━━━━━┓\n",
              "┃<span style=\"font-weight: bold\"> Layer (type)                         </span>┃<span style=\"font-weight: bold\"> Output Shape                </span>┃<span style=\"font-weight: bold\">         Param # </span>┃\n",
              "┡━━━━━━━━━━━━━━━━━━━━━━━━━━━━━━━━━━━━━━╇━━━━━━━━━━━━━━━━━━━━━━━━━━━━━╇━━━━━━━━━━━━━━━━━┩\n",
              "│ conv1d (<span style=\"color: #0087ff; text-decoration-color: #0087ff\">Conv1D</span>)                      │ (<span style=\"color: #00d7ff; text-decoration-color: #00d7ff\">None</span>, <span style=\"color: #00af00; text-decoration-color: #00af00\">165</span>, <span style=\"color: #00af00; text-decoration-color: #00af00\">80</span>)             │             <span style=\"color: #00af00; text-decoration-color: #00af00\">320</span> │\n",
              "├──────────────────────────────────────┼─────────────────────────────┼─────────────────┤\n",
              "│ conv1d_1 (<span style=\"color: #0087ff; text-decoration-color: #0087ff\">Conv1D</span>)                    │ (<span style=\"color: #00d7ff; text-decoration-color: #00d7ff\">None</span>, <span style=\"color: #00af00; text-decoration-color: #00af00\">165</span>, <span style=\"color: #00af00; text-decoration-color: #00af00\">110</span>)            │          <span style=\"color: #00af00; text-decoration-color: #00af00\">26,510</span> │\n",
              "├──────────────────────────────────────┼─────────────────────────────┼─────────────────┤\n",
              "│ conv1d_2 (<span style=\"color: #0087ff; text-decoration-color: #0087ff\">Conv1D</span>)                    │ (<span style=\"color: #00d7ff; text-decoration-color: #00d7ff\">None</span>, <span style=\"color: #00af00; text-decoration-color: #00af00\">165</span>, <span style=\"color: #00af00; text-decoration-color: #00af00\">80</span>)             │          <span style=\"color: #00af00; text-decoration-color: #00af00\">26,480</span> │\n",
              "├──────────────────────────────────────┼─────────────────────────────┼─────────────────┤\n",
              "│ max_pooling1d (<span style=\"color: #0087ff; text-decoration-color: #0087ff\">MaxPooling1D</span>)         │ (<span style=\"color: #00d7ff; text-decoration-color: #00d7ff\">None</span>, <span style=\"color: #00af00; text-decoration-color: #00af00\">82</span>, <span style=\"color: #00af00; text-decoration-color: #00af00\">80</span>)              │               <span style=\"color: #00af00; text-decoration-color: #00af00\">0</span> │\n",
              "├──────────────────────────────────────┼─────────────────────────────┼─────────────────┤\n",
              "│ flatten (<span style=\"color: #0087ff; text-decoration-color: #0087ff\">Flatten</span>)                    │ (<span style=\"color: #00d7ff; text-decoration-color: #00d7ff\">None</span>, <span style=\"color: #00af00; text-decoration-color: #00af00\">6560</span>)                │               <span style=\"color: #00af00; text-decoration-color: #00af00\">0</span> │\n",
              "├──────────────────────────────────────┼─────────────────────────────┼─────────────────┤\n",
              "│ dense (<span style=\"color: #0087ff; text-decoration-color: #0087ff\">Dense</span>)                        │ (<span style=\"color: #00d7ff; text-decoration-color: #00d7ff\">None</span>, <span style=\"color: #00af00; text-decoration-color: #00af00\">32</span>)                  │         <span style=\"color: #00af00; text-decoration-color: #00af00\">209,952</span> │\n",
              "├──────────────────────────────────────┼─────────────────────────────┼─────────────────┤\n",
              "│ dense_1 (<span style=\"color: #0087ff; text-decoration-color: #0087ff\">Dense</span>)                      │ (<span style=\"color: #00d7ff; text-decoration-color: #00d7ff\">None</span>, <span style=\"color: #00af00; text-decoration-color: #00af00\">128</span>)                 │           <span style=\"color: #00af00; text-decoration-color: #00af00\">4,224</span> │\n",
              "├──────────────────────────────────────┼─────────────────────────────┼─────────────────┤\n",
              "│ dense_2 (<span style=\"color: #0087ff; text-decoration-color: #0087ff\">Dense</span>)                      │ (<span style=\"color: #00d7ff; text-decoration-color: #00d7ff\">None</span>, <span style=\"color: #00af00; text-decoration-color: #00af00\">80</span>)                  │          <span style=\"color: #00af00; text-decoration-color: #00af00\">10,320</span> │\n",
              "└──────────────────────────────────────┴─────────────────────────────┴─────────────────┘\n",
              "</pre>\n"
            ]
          },
          "metadata": {}
        },
        {
          "output_type": "display_data",
          "data": {
            "text/plain": [
              "\u001b[1m Total params: \u001b[0m\u001b[38;5;34m277,806\u001b[0m (1.06 MB)\n"
            ],
            "text/html": [
              "<pre style=\"white-space:pre;overflow-x:auto;line-height:normal;font-family:Menlo,'DejaVu Sans Mono',consolas,'Courier New',monospace\"><span style=\"font-weight: bold\"> Total params: </span><span style=\"color: #00af00; text-decoration-color: #00af00\">277,806</span> (1.06 MB)\n",
              "</pre>\n"
            ]
          },
          "metadata": {}
        },
        {
          "output_type": "display_data",
          "data": {
            "text/plain": [
              "\u001b[1m Trainable params: \u001b[0m\u001b[38;5;34m277,806\u001b[0m (1.06 MB)\n"
            ],
            "text/html": [
              "<pre style=\"white-space:pre;overflow-x:auto;line-height:normal;font-family:Menlo,'DejaVu Sans Mono',consolas,'Courier New',monospace\"><span style=\"font-weight: bold\"> Trainable params: </span><span style=\"color: #00af00; text-decoration-color: #00af00\">277,806</span> (1.06 MB)\n",
              "</pre>\n"
            ]
          },
          "metadata": {}
        },
        {
          "output_type": "display_data",
          "data": {
            "text/plain": [
              "\u001b[1m Non-trainable params: \u001b[0m\u001b[38;5;34m0\u001b[0m (0.00 B)\n"
            ],
            "text/html": [
              "<pre style=\"white-space:pre;overflow-x:auto;line-height:normal;font-family:Menlo,'DejaVu Sans Mono',consolas,'Courier New',monospace\"><span style=\"font-weight: bold\"> Non-trainable params: </span><span style=\"color: #00af00; text-decoration-color: #00af00\">0</span> (0.00 B)\n",
              "</pre>\n"
            ]
          },
          "metadata": {}
        },
        {
          "output_type": "stream",
          "name": "stdout",
          "text": [
            "ml_dyn.RCDYN: Running recursive dynamics with CNN model......\n",
            "ml_dyn.RCDYN: Dynamics is saved in a file  \"unconstrained_sb_traj\"\n",
            "ml_dyn.RCDYN: Time taken = 0.7679457664489746 sec\n",
            "=================================================================\n",
            "No reference trajectory was provided, so dynamics is not plotted. You can provide reference trajectory with \"refTraj\"\n",
            "=================================================================\n",
            "MLQD is ended at 2024-09-03 06:20:03.849419\n"
          ]
        },
        {
          "output_type": "execute_result",
          "data": {
            "text/plain": [
              "<evolution.quant_dyn at 0x79d718186c20>"
            ]
          },
          "metadata": {},
          "execution_count": 17
        }
      ],
      "source": [
        "# Here we are using MLQD for dynamics prediction, later we will calculate the\n",
        "xx = np.load('trace_conservation/test_data/sb/2_epsilon-0.0_Delta-1.0_lambda-0.6_gamma-9.0_beta-1.0.npy')\n",
        "x = xx[0:41,1:]\n",
        "\n",
        "param={\n",
        "    'n_states': 2,\n",
        "    'time': 10,\n",
        "    'ostl_steps': 20,\n",
        "      'QDmodel': 'useQDmodel',     # str: create QD model. The dafault option is useQDmodel\n",
        "      'QDmodelType': 'RCDYN',           # str: The type of model. Here RCDYN and the default option is OSTL\n",
        "      'XfileIn': x,           # input x\n",
        "      'gamma': 9.0, # characteristic frequency of the test trajectory\n",
        "      'lamb': 0.6,  # system-bath strength of the test trajectory\n",
        "      'temp': 1.0, # beta = 1/T\n",
        "      'cons_trace': 'False', # Option for U-aware HC constraint\n",
        "      'systemType': 'SB', # str: (Not optional) Need to define, wether your model is spin-boson (SB) or FMO complex (FMO)\n",
        "      'QDmodelIn':  max_epoch_model,    # trained models\n",
        "      'QDtrajOut': 'unconstrained_sb_traj'\n",
        "      }\n",
        "quant_dyn(**param)\n"
      ]
    },
    {
      "cell_type": "code",
      "source": [
        "# Plot elements of rho\n",
        "x = np.load('unconstrained_sb_traj.npy')\n",
        "\n",
        "plt.plot(x[:,0], x[:, 1], label=r'$\\rho$11') # Population of state_1\n",
        "plt.plot(x[:,0], x[:, 4], label=r'$\\rho$22')  # Population of state_1\n",
        "plt.plot(x[:,0], np.real(x[:, 2]), label=r'Real Part of $\\rho$12') # Real part of coherent term r_12\n",
        "plt.plot(x[:,0], np.imag(x[:, 2]), label=r'Imaginary part of $\\rho$12') # Real part of coherent term r_21\n",
        "plt.legend()"
      ],
      "metadata": {
        "id": "iNXKCWhPLrCW",
        "outputId": "b0add112-ed2a-4d92-b54e-22e064d4cdbc",
        "colab": {
          "base_uri": "https://localhost:8080/",
          "height": 482
        }
      },
      "execution_count": 18,
      "outputs": [
        {
          "output_type": "stream",
          "name": "stderr",
          "text": [
            "/usr/local/lib/python3.10/dist-packages/matplotlib/cbook/__init__.py:1335: ComplexWarning: Casting complex values to real discards the imaginary part\n",
            "  return np.asarray(x, float)\n"
          ]
        },
        {
          "output_type": "execute_result",
          "data": {
            "text/plain": [
              "<matplotlib.legend.Legend at 0x79d7103f3af0>"
            ]
          },
          "metadata": {},
          "execution_count": 18
        },
        {
          "output_type": "display_data",
          "data": {
            "text/plain": [
              "<Figure size 640x480 with 1 Axes>"
            ],
            "image/png": "[encoded data removed]"
          },
          "metadata": {}
        }
      ]
    },
    {
      "cell_type": "code",
      "source": [
        "# Plot trace vs time\n",
        "x = np.load('unconstrained_sb_traj.npy')\n",
        "trace = np.real(x[:,1] + x[:,4])\n",
        "\n",
        "plt.plot(x[:,0], trace)"
      ],
      "metadata": {
        "colab": {
          "base_uri": "https://localhost:8080/",
          "height": 447
        },
        "id": "r6MOQ4z4VeUS",
        "outputId": "708f5c93-e681-4b80-fdee-83363d5ca2b4"
      },
      "execution_count": 19,
      "outputs": [
        {
          "output_type": "execute_result",
          "data": {
            "text/plain": [
              "[<matplotlib.lines.Line2D at 0x79d71019d660>]"
            ]
          },
          "metadata": {},
          "execution_count": 19
        },
        {
          "output_type": "display_data",
          "data": {
            "text/plain": [
              "<Figure size 640x480 with 1 Axes>"
            ],
            "image/png": "[encoded data removed]"
          },
          "metadata": {}
        }
      ]
    },
    {
      "cell_type": "markdown",
      "source": [
        "# Let's do it for FMO complex"
      ],
      "metadata": {
        "id": "MaL09S1-1H3m"
      }
    },
    {
      "cell_type": "code",
      "source": [
        "# input for MLQD package, more details are given at https://github.com/Arif-PhyChem/MLQD\n",
        "\n",
        "param={\n",
        "    'n_states': 7,\n",
        "      'QDmodel': 'createQDmodel',     # str: create QD model. The dafault option is useQDmodel\n",
        "      'QDmodelType': 'RCDYN',           # str: The type of model. Here KRR and the default option is OSTL\n",
        "      'prepInput' : 'False',           # str: Prepare input files from the data (Default 'False')\n",
        "      'XfileIn': 'training_data/fmo/unconstrained/x',           # str: (Optional) The prepared X file\n",
        "      'YfileIn': 'training_data/fmo/unconstrained/y',           # str: (Optional) The prepared Y file\n",
        "      'hyperParam': 'False',           # str: Default is 'False', we can pass 'True' (optimize the hyperparameters) or 'False' (don't optimize and run with the default values)\n",
        "      'patience': 30,\n",
        "      'OptEpochs': 30,\n",
        "      'ostl_steps': 20,\n",
        "      'TrEpochs': 10,\n",
        "      'max_evals': 30,\n",
        "      'systemType': 'FMO'\n",
        "      }\n",
        "quant_dyn(**param)"
      ],
      "metadata": {
        "colab": {
          "base_uri": "https://localhost:8080/"
        },
        "id": "lPt_88P5dzws",
        "outputId": "2672109f-a1db-4b29-8fae-f58af2b18499"
      },
      "execution_count": 20,
      "outputs": [
        {
          "output_type": "stream",
          "name": "stdout",
          "text": [
            "=================================================================\n",
            "MLQD is a python package developed for Machine Learning-based Quantum Dissipative Dynamics,\n",
            " \t\t\t\t  Version 1.1.1\n",
            "\t\t\t https://github.com/Arif-PhyChem/MLQD\n",
            "\n",
            " \t\t\t Copyright (c) 2023 Arif Ullah\n",
            "\n",
            "All rights reserved. This work is licensed under the Apache Software License 2.0\n",
            "\n",
            "\n",
            "The above copyright notice and this permission notice shall be included \n",
            "in all copies or substantial portions of the Software.\n",
            "\n",
            "\n",
            "The software is provided \"as is\" without warranty of any kind, express or implied, \n",
            "including but not limited to the warranties ofmerchantability, fitness for a particular \n",
            "purpose and noninfringement. In no event shall the authors or copyright holders be \n",
            "liable for any claim, damages or other liability, whether in an action of contract, tort or otherwise, \n",
            "arising from, out of or in connection with the software or the use or other dealings in the software.\n",
            "\n",
            "\n",
            "\t\t\t\t Cite as:\n",
            "\n",
            "1) Ullah A. and Dral P. O., Computer Physics Communications, 2023, 294, 108940\n",
            "2) Ullah A. and Dral P. O., New Journal of Physics, 2021, 23(11), 113019\n",
            "3) Ullah A. and Dral P. O., Nature Communications, 2022, 13(1), 1930\n",
            "4) Ullah A. and Dral P. O., Journal of Physical Chemistry Letters, 2022, 13(26), 6037\n",
            "5) Rodriguez L. E. H.; Ullah A.; Espinosa K. J. R.; Dral P. O. and Kananenka A. A., Machine Learning: Science and Technology, 2022, 3(4), 045016\n",
            "6) Ullah, A., Rodriguez, L. E. H., Dral P. O., and Kananenka, A. A., Frontiers in Physics, 2023, 11, 1223973\n",
            "\n",
            "Contributers List:\n",
            "\n",
            "1) Arif Ullah (main) \n",
            "2) Pavlo O. Dral\n",
            "=================================================================\n",
            "MLQD is started at 2024-09-03 06:20:14.823873\n",
            "=================================================================\n",
            "Setting \"systemType\" to FMO\n",
            "MLQD is running with the option QDmodel =  createQDmodel\n",
            "Setting ML Model Type \"QDmodelType\" to RCDYN\n",
            "Setting number of states \"n_states\" to 7\n",
            "You have chosen not to prepare the input files, othewise you should pass \"True\" to prepInput\n",
            "Setting \"MLmodel\" to default option cnn\n",
            "Xfilein is training_data/fmo/unconstrained/x\n",
            "YfileIn is training_data/fmo/unconstrained/y\n",
            "You have chosen not to optimize the hyper parameters of the model, otherwise you should pass \"True\" to hyperParam\n",
            "=================================================================\n",
            "Setting patience for early stopping to 30\n",
            "Setting number of epochs for training to 10\n",
            "Running with the default value of gamma normalizeer; gammaNorm = 500 \n",
            "Running with the default value of lambda normalizer; lambNorm = 520 \n",
            "Running with the default value of temperature (or inverse temperature) normalizer; tempNorm = 510 \n",
            "=================================================================\n",
            "Setting length of x-input \"xlength\" to default value 81\n",
            "Running with the dafault propagation time; time: 50 \n",
            "Running with the dafault time-step: time_step: 0.005\n",
            "Running with default option: pinn=False, training an unconstrained neural network (PINN)\n",
            "Running with default prior option 0 with no trace conservation\n",
            "=================================================================\n",
            "Running with ostl_steps =  20\n",
            "Normalization constants are dumped at norm_const.pkl\n",
            "=================================================================\n",
            "Data: Checking to see whether the input data files training_data/fmo/unconstrained/x.npy and training_data/fmo/unconstrained/y.npy exist\n",
            "Data: Loading data files training_data/fmo/unconstrained/x.npy and training_data/fmo/unconstrained/y.npy\n",
            "Data: splitting data into sub-training/validation sets with 80/20 % ratio\n",
            "=================================================================\n",
            "ml_model.cnn: Looking for best_cnn_params.pkl\n",
            "=================================================================\n",
            "ml_models.cnn: best_cnn_params.pkl not found, thus training CNN model with the default structure\n",
            "=================================================================\n",
            "ml_models.cnn: Running wth EarlyStopping of patience = 30\n",
            "ml_models.cnn: Running with batch size = 64 and epochs = 10\n",
            "=================================================================\n",
            "Directory trained_models already exists where the trained models will be saved\n"
          ]
        },
        {
          "output_type": "stream",
          "name": "stderr",
          "text": [
            "/usr/local/lib/python3.10/dist-packages/keras/src/layers/convolutional/base_conv.py:107: UserWarning: Do not pass an `input_shape`/`input_dim` argument to a layer. When using Sequential models, prefer using an `Input(shape)` object as the first layer in the model instead.\n",
            "  super().__init__(activity_regularizer=activity_regularizer, **kwargs)\n"
          ]
        },
        {
          "output_type": "stream",
          "name": "stdout",
          "text": [
            "Epoch 1/10\n",
            "\n",
            "Epoch 1: val_loss improved from inf to 0.00004, saving model to trained_models/FMO_cnn_model-01-tloss-1.078e-03-vloss-4.493e-05.keras\n",
            "105/105 - 10s - 97ms/step - loss: 0.0011 - val_loss: 4.4929e-05\n",
            "Epoch 2/10\n",
            "\n",
            "Epoch 2: val_loss improved from 0.00004 to 0.00003, saving model to trained_models/FMO_cnn_model-02-tloss-3.430e-05-vloss-3.236e-05.keras\n",
            "105/105 - 5s - 45ms/step - loss: 3.4301e-05 - val_loss: 3.2361e-05\n",
            "Epoch 3/10\n",
            "\n",
            "Epoch 3: val_loss improved from 0.00003 to 0.00001, saving model to trained_models/FMO_cnn_model-03-tloss-1.867e-05-vloss-1.478e-05.keras\n",
            "105/105 - 5s - 47ms/step - loss: 1.8670e-05 - val_loss: 1.4783e-05\n",
            "Epoch 4/10\n",
            "\n",
            "Epoch 4: val_loss improved from 0.00001 to 0.00001, saving model to trained_models/FMO_cnn_model-04-tloss-1.045e-05-vloss-9.307e-06.keras\n",
            "105/105 - 6s - 55ms/step - loss: 1.0449e-05 - val_loss: 9.3067e-06\n",
            "Epoch 5/10\n",
            "\n",
            "Epoch 5: val_loss improved from 0.00001 to 0.00001, saving model to trained_models/FMO_cnn_model-05-tloss-8.649e-06-vloss-7.939e-06.keras\n",
            "105/105 - 5s - 47ms/step - loss: 8.6488e-06 - val_loss: 7.9388e-06\n",
            "Epoch 6/10\n",
            "\n",
            "Epoch 6: val_loss improved from 0.00001 to 0.00001, saving model to trained_models/FMO_cnn_model-06-tloss-7.947e-06-vloss-7.239e-06.keras\n",
            "105/105 - 5s - 47ms/step - loss: 7.9466e-06 - val_loss: 7.2389e-06\n",
            "Epoch 7/10\n",
            "\n",
            "Epoch 7: val_loss improved from 0.00001 to 0.00001, saving model to trained_models/FMO_cnn_model-07-tloss-6.720e-06-vloss-6.115e-06.keras\n",
            "105/105 - 5s - 49ms/step - loss: 6.7200e-06 - val_loss: 6.1153e-06\n",
            "Epoch 8/10\n",
            "\n",
            "Epoch 8: val_loss did not improve from 0.00001\n",
            "105/105 - 5s - 45ms/step - loss: 6.6221e-06 - val_loss: 6.4334e-06\n",
            "Epoch 9/10\n",
            "\n",
            "Epoch 9: val_loss did not improve from 0.00001\n",
            "105/105 - 5s - 47ms/step - loss: 6.9505e-06 - val_loss: 1.0644e-05\n",
            "Epoch 10/10\n",
            "\n",
            "Epoch 10: val_loss improved from 0.00001 to 0.00000, saving model to trained_models/FMO_cnn_model-10-tloss-4.031e-06-vloss-3.429e-06.keras\n",
            "105/105 - 5s - 48ms/step - loss: 4.0315e-06 - val_loss: 3.4292e-06\n",
            "Train_ml.RCDYN: Time taken for training = 56.301713705062866 sec\n",
            "=================================================================\n",
            "=================================================================\n",
            "MLQD is ended at 2024-09-03 06:21:11.138526\n"
          ]
        },
        {
          "output_type": "execute_result",
          "data": {
            "text/plain": [
              "<evolution.quant_dyn at 0x79d7101b9bd0>"
            ]
          },
          "metadata": {},
          "execution_count": 20
        }
      ]
    },
    {
      "cell_type": "code",
      "source": [
        "# Grab trained FMO model with large epoch number\n",
        "\n",
        "from datetime import datetime\n",
        "\n",
        "# Directory containing the models\n",
        "model_dir = \"trained_models\"\n",
        "\n",
        "# List all models in the directory\n",
        "models = [f for f in os.listdir(model_dir) if f.startswith(\"FMO\") and f.endswith(\".keras\")]\n",
        "\n",
        "# Get file paths and their timestamps\n",
        "model_paths = [os.path.join(model_dir, f) for f in models]\n",
        "model_info = [(f, os.path.getmtime(f)) for f in model_paths]\n",
        "\n",
        "# Sort models by timestamp\n",
        "sorted_models = sorted(model_info, key=lambda x: x[1])\n",
        "\n",
        "trained_models = {}\n",
        "\n",
        "for model, timestamp in sorted_models:\n",
        "  model_name = model.split(\"/\")[1]\n",
        "  epoch_number = int(model_name.split(\"-\")[1])\n",
        "\n",
        "  trained_models[epoch_number] = model\n",
        "\n",
        "# Find the maximum epoch number\n",
        "max_epoch = max(trained_models.keys())\n",
        "\n",
        "# Get the model with the largest epoch number\n",
        "max_epoch_model = trained_models[max_epoch]\n",
        "\n",
        "print(\"Model with the largest epoch:\", max_epoch_model)"
      ],
      "metadata": {
        "id": "7P4Z-SqXbMkW",
        "outputId": "21a1de48-40bf-4eae-889e-93faf3297d54",
        "colab": {
          "base_uri": "https://localhost:8080/"
        }
      },
      "execution_count": 22,
      "outputs": [
        {
          "output_type": "stream",
          "name": "stdout",
          "text": [
            "Model with the largest epoch: trained_models/FMO_cnn_model-10-tloss-4.031e-06-vloss-3.429e-06.keras\n"
          ]
        }
      ]
    },
    {
      "cell_type": "code",
      "source": [
        "xx = np.load('trace_conservation/test_data/fmo/7_initial-1_gamma-400.0_lambda-40.0_temp-90.0.npy')\n",
        "\n",
        "x = xx[0:41,1:]\n",
        "\n",
        "param={\n",
        "        'n_states': 7,\n",
        "        'time': 2,\n",
        "        'time_step' : 0.005,\n",
        "        'ostl_steps': 20,\n",
        "        'QDmodel': 'useQDmodel',     # str: create QD model. The dafault option is useQDmodel\n",
        "        'QDmodelType': 'RCDYN',      # str: The type of model. Here RCDYN and the default option is OSTL\n",
        "        'XfileIn': x,           # input x\n",
        "        'gamma': 400,    # Characteristic frequency (cm-1)\n",
        "        'lamb': 40,     # System-bath coupling (cm-1)\n",
        "        'temp': 90,     # Temperature (K)\n",
        "        'cons_trace': 'False', # Option for U-aware HC constraint\n",
        "        'systemType': 'FMO', # str: (Not optional) Need to define, wether your model is spin-boson (SB) or FMO complex (FMO)\n",
        "        'QDmodelIn': max_epoch_model,    # str: (Optional), providing a name to save the model at\n",
        "        'QDtrajOut': 'unconstrained_fmo_traj'  # predicted trajectory will be saved with this name\n",
        "      }\n",
        "quant_dyn(**param)\n"
      ],
      "metadata": {
        "id": "H38Pv4bSZzqq",
        "colab": {
          "base_uri": "https://localhost:8080/",
          "height": 1000
        },
        "outputId": "59e35e9a-e37e-4a2b-d26d-023f8f00f5c2"
      },
      "execution_count": 24,
      "outputs": [
        {
          "output_type": "stream",
          "name": "stdout",
          "text": [
            "=================================================================\n",
            "MLQD is a python package developed for Machine Learning-based Quantum Dissipative Dynamics,\n",
            " \t\t\t\t  Version 1.1.1\n",
            "\t\t\t https://github.com/Arif-PhyChem/MLQD\n",
            "\n",
            " \t\t\t Copyright (c) 2023 Arif Ullah\n",
            "\n",
            "All rights reserved. This work is licensed under the Apache Software License 2.0\n",
            "\n",
            "\n",
            "The above copyright notice and this permission notice shall be included \n",
            "in all copies or substantial portions of the Software.\n",
            "\n",
            "\n",
            "The software is provided \"as is\" without warranty of any kind, express or implied, \n",
            "including but not limited to the warranties ofmerchantability, fitness for a particular \n",
            "purpose and noninfringement. In no event shall the authors or copyright holders be \n",
            "liable for any claim, damages or other liability, whether in an action of contract, tort or otherwise, \n",
            "arising from, out of or in connection with the software or the use or other dealings in the software.\n",
            "\n",
            "\n",
            "\t\t\t\t Cite as:\n",
            "\n",
            "1) Ullah A. and Dral P. O., Computer Physics Communications, 2023, 294, 108940\n",
            "2) Ullah A. and Dral P. O., New Journal of Physics, 2021, 23(11), 113019\n",
            "3) Ullah A. and Dral P. O., Nature Communications, 2022, 13(1), 1930\n",
            "4) Ullah A. and Dral P. O., Journal of Physical Chemistry Letters, 2022, 13(26), 6037\n",
            "5) Rodriguez L. E. H.; Ullah A.; Espinosa K. J. R.; Dral P. O. and Kananenka A. A., Machine Learning: Science and Technology, 2022, 3(4), 045016\n",
            "6) Ullah, A., Rodriguez, L. E. H., Dral P. O., and Kananenka, A. A., Frontiers in Physics, 2023, 11, 1223973\n",
            "\n",
            "Contributers List:\n",
            "\n",
            "1) Arif Ullah (main) \n",
            "2) Pavlo O. Dral\n",
            "=================================================================\n",
            "MLQD is started at 2024-09-03 06:22:06.425813\n",
            "=================================================================\n",
            "Setting \"systemType\" to FMO\n",
            "MLQD is running with the option QDmodel =  useQDmodel\n",
            "Setting ML Model Type \"QDmodelType\" to RCDYN\n",
            "Setting number of states \"n_states\" to 7\n",
            "Setting propagation time \"time\" to 2\n",
            "Setting time_step to 0.005\n",
            "Using the trained model(s) \"trained_models/FMO_cnn_model-10-tloss-4.031e-06-vloss-3.429e-06.keras\" for dynamics prediction\n",
            "Setting cutt-off frequency \"gamma\" to 400\n",
            "Setting system-bath coupling strength \"lambda\" to 40\n",
            "Setting temperature (or inverse temperature) value \"temp\" to 90\n",
            "=================================================================\n",
            "evolution: Looking for norm_const.pkl\n",
            "Reading normalization constants from norm_const.pkl\n",
            "=================================================================\n",
            "Setting gamma normalizeer \"gammaNorm\" to 500.0\n",
            "Setting lambda normalizer \"lambNormalizer\" to 510.0\n",
            "Setting temperature (or inverse temperature) normalizer \"tempNorm\" to 510.0\n",
            "The input is = [[ 1.00000000e+00+0.00000000e+00j  0.00000000e+00+0.00000000e+00j\n",
            "   0.00000000e+00+0.00000000e+00j ...  0.00000000e+00+0.00000000e+00j\n",
            "   0.00000000e+00+0.00000000e+00j  0.00000000e+00+0.00000000e+00j]\n",
            " [ 9.82548110e-01+3.87127604e-21j  1.35606226e-02-7.94772459e-02j\n",
            "   4.78539166e-03+4.82180648e-03j ... -2.86304785e-06+6.27652342e-06j\n",
            "   8.37577056e-05+7.33745871e-06j  4.33165992e-04-1.95771985e-21j]\n",
            " [ 9.52721240e-01-5.56738799e-19j  3.51840327e-02-1.50755544e-01j\n",
            "   1.19731998e-02+8.69862920e-03j ... -1.10623386e-04+3.53613103e-05j\n",
            "   3.61359137e-04+6.75413542e-05j  1.00534881e-03-6.14563770e-21j]\n",
            " ...\n",
            " [ 6.60423189e-01+5.48288113e-17j  2.51468213e-01-1.16798230e-01j\n",
            "   8.78754225e-02-6.11559794e-03j ...  2.14785983e-03-9.77015149e-04j\n",
            "  -1.79760497e-03+1.27870317e-04j  9.75018944e-03+2.51242713e-18j]\n",
            " [ 6.40399315e-01+5.15078516e-17j  2.65987923e-01-1.16997625e-01j\n",
            "   8.86218029e-02-6.16152861e-03j ...  2.33473859e-03-8.17960842e-04j\n",
            "  -1.69108774e-03-4.36266436e-05j  9.89436229e-03+2.62681999e-18j]\n",
            " [ 6.21290449e-01+3.16844513e-17j  2.79819539e-01-1.12608539e-01j\n",
            "   8.93222910e-02-5.87275453e-03j ...  2.48581696e-03-6.42590422e-04j\n",
            "  -1.57862665e-03-1.32905518e-04j  1.00456451e-02+2.63086873e-18j]]\n",
            "You have chosen not to impose the constraint of trace conservation, otherwise you should pass \"True\" to cons_trace\n",
            "=================================================================\n",
            "Running with default prior option 0 with no trace conservation\n",
            "=================================================================\n",
            "Running with ostl_steps =  20\n"
          ]
        },
        {
          "output_type": "display_data",
          "data": {
            "text/plain": [
              "\u001b[1mModel: \"sequential_1\"\u001b[0m\n"
            ],
            "text/html": [
              "<pre style=\"white-space:pre;overflow-x:auto;line-height:normal;font-family:Menlo,'DejaVu Sans Mono',consolas,'Courier New',monospace\"><span style=\"font-weight: bold\">Model: \"sequential_1\"</span>\n",
              "</pre>\n"
            ]
          },
          "metadata": {}
        },
        {
          "output_type": "display_data",
          "data": {
            "text/plain": [
              "┏━━━━━━━━━━━━━━━━━━━━━━━━━━━━━━━━━━━━━━┳━━━━━━━━━━━━━━━━━━━━━━━━━━━━━┳━━━━━━━━━━━━━━━━━┓\n",
              "┃\u001b[1m \u001b[0m\u001b[1mLayer (type)                        \u001b[0m\u001b[1m \u001b[0m┃\u001b[1m \u001b[0m\u001b[1mOutput Shape               \u001b[0m\u001b[1m \u001b[0m┃\u001b[1m \u001b[0m\u001b[1m        Param #\u001b[0m\u001b[1m \u001b[0m┃\n",
              "┡━━━━━━━━━━━━━━━━━━━━━━━━━━━━━━━━━━━━━━╇━━━━━━━━━━━━━━━━━━━━━━━━━━━━━╇━━━━━━━━━━━━━━━━━┩\n",
              "│ conv1d_3 (\u001b[38;5;33mConv1D\u001b[0m)                    │ (\u001b[38;5;45mNone\u001b[0m, \u001b[38;5;34m2010\u001b[0m, \u001b[38;5;34m80\u001b[0m)            │             \u001b[38;5;34m320\u001b[0m │\n",
              "├──────────────────────────────────────┼─────────────────────────────┼─────────────────┤\n",
              "│ conv1d_4 (\u001b[38;5;33mConv1D\u001b[0m)                    │ (\u001b[38;5;45mNone\u001b[0m, \u001b[38;5;34m2010\u001b[0m, \u001b[38;5;34m110\u001b[0m)           │          \u001b[38;5;34m26,510\u001b[0m │\n",
              "├──────────────────────────────────────┼─────────────────────────────┼─────────────────┤\n",
              "│ conv1d_5 (\u001b[38;5;33mConv1D\u001b[0m)                    │ (\u001b[38;5;45mNone\u001b[0m, \u001b[38;5;34m2010\u001b[0m, \u001b[38;5;34m80\u001b[0m)            │          \u001b[38;5;34m26,480\u001b[0m │\n",
              "├──────────────────────────────────────┼─────────────────────────────┼─────────────────┤\n",
              "│ max_pooling1d_1 (\u001b[38;5;33mMaxPooling1D\u001b[0m)       │ (\u001b[38;5;45mNone\u001b[0m, \u001b[38;5;34m1005\u001b[0m, \u001b[38;5;34m80\u001b[0m)            │               \u001b[38;5;34m0\u001b[0m │\n",
              "├──────────────────────────────────────┼─────────────────────────────┼─────────────────┤\n",
              "│ flatten_1 (\u001b[38;5;33mFlatten\u001b[0m)                  │ (\u001b[38;5;45mNone\u001b[0m, \u001b[38;5;34m80400\u001b[0m)               │               \u001b[38;5;34m0\u001b[0m │\n",
              "├──────────────────────────────────────┼─────────────────────────────┼─────────────────┤\n",
              "│ dense_3 (\u001b[38;5;33mDense\u001b[0m)                      │ (\u001b[38;5;45mNone\u001b[0m, \u001b[38;5;34m32\u001b[0m)                  │       \u001b[38;5;34m2,572,832\u001b[0m │\n",
              "├──────────────────────────────────────┼─────────────────────────────┼─────────────────┤\n",
              "│ dense_4 (\u001b[38;5;33mDense\u001b[0m)                      │ (\u001b[38;5;45mNone\u001b[0m, \u001b[38;5;34m128\u001b[0m)                 │           \u001b[38;5;34m4,224\u001b[0m │\n",
              "├──────────────────────────────────────┼─────────────────────────────┼─────────────────┤\n",
              "│ dense_5 (\u001b[38;5;33mDense\u001b[0m)                      │ (\u001b[38;5;45mNone\u001b[0m, \u001b[38;5;34m980\u001b[0m)                 │         \u001b[38;5;34m126,420\u001b[0m │\n",
              "└──────────────────────────────────────┴─────────────────────────────┴─────────────────┘\n"
            ],
            "text/html": [
              "<pre style=\"white-space:pre;overflow-x:auto;line-height:normal;font-family:Menlo,'DejaVu Sans Mono',consolas,'Courier New',monospace\">┏━━━━━━━━━━━━━━━━━━━━━━━━━━━━━━━━━━━━━━┳━━━━━━━━━━━━━━━━━━━━━━━━━━━━━┳━━━━━━━━━━━━━━━━━┓\n",
              "┃<span style=\"font-weight: bold\"> Layer (type)                         </span>┃<span style=\"font-weight: bold\"> Output Shape                </span>┃<span style=\"font-weight: bold\">         Param # </span>┃\n",
              "┡━━━━━━━━━━━━━━━━━━━━━━━━━━━━━━━━━━━━━━╇━━━━━━━━━━━━━━━━━━━━━━━━━━━━━╇━━━━━━━━━━━━━━━━━┩\n",
              "│ conv1d_3 (<span style=\"color: #0087ff; text-decoration-color: #0087ff\">Conv1D</span>)                    │ (<span style=\"color: #00d7ff; text-decoration-color: #00d7ff\">None</span>, <span style=\"color: #00af00; text-decoration-color: #00af00\">2010</span>, <span style=\"color: #00af00; text-decoration-color: #00af00\">80</span>)            │             <span style=\"color: #00af00; text-decoration-color: #00af00\">320</span> │\n",
              "├──────────────────────────────────────┼─────────────────────────────┼─────────────────┤\n",
              "│ conv1d_4 (<span style=\"color: #0087ff; text-decoration-color: #0087ff\">Conv1D</span>)                    │ (<span style=\"color: #00d7ff; text-decoration-color: #00d7ff\">None</span>, <span style=\"color: #00af00; text-decoration-color: #00af00\">2010</span>, <span style=\"color: #00af00; text-decoration-color: #00af00\">110</span>)           │          <span style=\"color: #00af00; text-decoration-color: #00af00\">26,510</span> │\n",
              "├──────────────────────────────────────┼─────────────────────────────┼─────────────────┤\n",
              "│ conv1d_5 (<span style=\"color: #0087ff; text-decoration-color: #0087ff\">Conv1D</span>)                    │ (<span style=\"color: #00d7ff; text-decoration-color: #00d7ff\">None</span>, <span style=\"color: #00af00; text-decoration-color: #00af00\">2010</span>, <span style=\"color: #00af00; text-decoration-color: #00af00\">80</span>)            │          <span style=\"color: #00af00; text-decoration-color: #00af00\">26,480</span> │\n",
              "├──────────────────────────────────────┼─────────────────────────────┼─────────────────┤\n",
              "│ max_pooling1d_1 (<span style=\"color: #0087ff; text-decoration-color: #0087ff\">MaxPooling1D</span>)       │ (<span style=\"color: #00d7ff; text-decoration-color: #00d7ff\">None</span>, <span style=\"color: #00af00; text-decoration-color: #00af00\">1005</span>, <span style=\"color: #00af00; text-decoration-color: #00af00\">80</span>)            │               <span style=\"color: #00af00; text-decoration-color: #00af00\">0</span> │\n",
              "├──────────────────────────────────────┼─────────────────────────────┼─────────────────┤\n",
              "│ flatten_1 (<span style=\"color: #0087ff; text-decoration-color: #0087ff\">Flatten</span>)                  │ (<span style=\"color: #00d7ff; text-decoration-color: #00d7ff\">None</span>, <span style=\"color: #00af00; text-decoration-color: #00af00\">80400</span>)               │               <span style=\"color: #00af00; text-decoration-color: #00af00\">0</span> │\n",
              "├──────────────────────────────────────┼─────────────────────────────┼─────────────────┤\n",
              "│ dense_3 (<span style=\"color: #0087ff; text-decoration-color: #0087ff\">Dense</span>)                      │ (<span style=\"color: #00d7ff; text-decoration-color: #00d7ff\">None</span>, <span style=\"color: #00af00; text-decoration-color: #00af00\">32</span>)                  │       <span style=\"color: #00af00; text-decoration-color: #00af00\">2,572,832</span> │\n",
              "├──────────────────────────────────────┼─────────────────────────────┼─────────────────┤\n",
              "│ dense_4 (<span style=\"color: #0087ff; text-decoration-color: #0087ff\">Dense</span>)                      │ (<span style=\"color: #00d7ff; text-decoration-color: #00d7ff\">None</span>, <span style=\"color: #00af00; text-decoration-color: #00af00\">128</span>)                 │           <span style=\"color: #00af00; text-decoration-color: #00af00\">4,224</span> │\n",
              "├──────────────────────────────────────┼─────────────────────────────┼─────────────────┤\n",
              "│ dense_5 (<span style=\"color: #0087ff; text-decoration-color: #0087ff\">Dense</span>)                      │ (<span style=\"color: #00d7ff; text-decoration-color: #00d7ff\">None</span>, <span style=\"color: #00af00; text-decoration-color: #00af00\">980</span>)                 │         <span style=\"color: #00af00; text-decoration-color: #00af00\">126,420</span> │\n",
              "└──────────────────────────────────────┴─────────────────────────────┴─────────────────┘\n",
              "</pre>\n"
            ]
          },
          "metadata": {}
        },
        {
          "output_type": "display_data",
          "data": {
            "text/plain": [
              "\u001b[1m Total params: \u001b[0m\u001b[38;5;34m2,756,786\u001b[0m (10.52 MB)\n"
            ],
            "text/html": [
              "<pre style=\"white-space:pre;overflow-x:auto;line-height:normal;font-family:Menlo,'DejaVu Sans Mono',consolas,'Courier New',monospace\"><span style=\"font-weight: bold\"> Total params: </span><span style=\"color: #00af00; text-decoration-color: #00af00\">2,756,786</span> (10.52 MB)\n",
              "</pre>\n"
            ]
          },
          "metadata": {}
        },
        {
          "output_type": "display_data",
          "data": {
            "text/plain": [
              "\u001b[1m Trainable params: \u001b[0m\u001b[38;5;34m2,756,786\u001b[0m (10.52 MB)\n"
            ],
            "text/html": [
              "<pre style=\"white-space:pre;overflow-x:auto;line-height:normal;font-family:Menlo,'DejaVu Sans Mono',consolas,'Courier New',monospace\"><span style=\"font-weight: bold\"> Trainable params: </span><span style=\"color: #00af00; text-decoration-color: #00af00\">2,756,786</span> (10.52 MB)\n",
              "</pre>\n"
            ]
          },
          "metadata": {}
        },
        {
          "output_type": "display_data",
          "data": {
            "text/plain": [
              "\u001b[1m Non-trainable params: \u001b[0m\u001b[38;5;34m0\u001b[0m (0.00 B)\n"
            ],
            "text/html": [
              "<pre style=\"white-space:pre;overflow-x:auto;line-height:normal;font-family:Menlo,'DejaVu Sans Mono',consolas,'Courier New',monospace\"><span style=\"font-weight: bold\"> Non-trainable params: </span><span style=\"color: #00af00; text-decoration-color: #00af00\">0</span> (0.00 B)\n",
              "</pre>\n"
            ]
          },
          "metadata": {}
        },
        {
          "output_type": "stream",
          "name": "stdout",
          "text": [
            "ml_dyn.RCDYN: Running recursive dynamics with CNN model......\n",
            "ml_dyn.RCDYN: Dynamics is saved in a file  \"unconstrained_fmo_traj\"\n",
            "ml_dyn.RCDYN: Time taken = 1.5907588005065918 sec\n",
            "=================================================================\n",
            "No reference trajectory was provided, so dynamics is not plotted. You can provide reference trajectory with \"refTraj\"\n",
            "=================================================================\n",
            "MLQD is ended at 2024-09-03 06:22:08.199220\n"
          ]
        },
        {
          "output_type": "execute_result",
          "data": {
            "text/plain": [
              "<evolution.quant_dyn at 0x79d7101b96c0>"
            ]
          },
          "metadata": {},
          "execution_count": 24
        }
      ]
    },
    {
      "cell_type": "code",
      "source": [
        "# Plotting diagonal terms of rho\n",
        "x = np.load('unconstrained_fmo_traj.npy')\n",
        "\n",
        "label=1\n",
        "for i in [1, 9, 17, 25, 33, 41, 49]:\n",
        "  plt.plot(x[:,0], x[:, i], label=r'$\\rho$'+str(label)+str(label))\n",
        "  label += 1\n",
        "plt.legend()\n",
        "plt.xlabel('time(ps)')"
      ],
      "metadata": {
        "id": "auvvupg-MSHF",
        "outputId": "86d1a75b-d056-49cb-809e-911153d94c03",
        "colab": {
          "base_uri": "https://localhost:8080/",
          "height": 466
        }
      },
      "execution_count": 25,
      "outputs": [
        {
          "output_type": "execute_result",
          "data": {
            "text/plain": [
              "Text(0.5, 0, 'time(ps)')"
            ]
          },
          "metadata": {},
          "execution_count": 25
        },
        {
          "output_type": "display_data",
          "data": {
            "text/plain": [
              "<Figure size 640x480 with 1 Axes>"
            ],
            "image/png": "[encoded data removed]"
          },
          "metadata": {}
        }
      ]
    },
    {
      "cell_type": "code",
      "source": [
        "# Plot trace vs time\n",
        "\n",
        "x = np.load('unconstrained_fmo_traj.npy')\n",
        "trace = 0.0\n",
        "for i in [1, 9, 17, 25, 33, 41, 49]:\n",
        "  trace += np.real(x[:,i])\n",
        "\n",
        "plt.plot(x[:,0], trace)\n",
        "plt.xlabel('time(ps)')\n",
        "plt.ylabel('Trace')"
      ],
      "metadata": {
        "id": "m4TiSj1pVXx0",
        "colab": {
          "base_uri": "https://localhost:8080/",
          "height": 466
        },
        "outputId": "6c7570b4-1f5e-4f7e-8138-5b6cc75dc765"
      },
      "execution_count": 26,
      "outputs": [
        {
          "output_type": "execute_result",
          "data": {
            "text/plain": [
              "Text(0, 0.5, 'Trace')"
            ]
          },
          "metadata": {},
          "execution_count": 26
        },
        {
          "output_type": "display_data",
          "data": {
            "text/plain": [
              "<Figure size 640x480 with 1 Axes>"
            ],
            "image/png": "[encoded data removed]"
          },
          "metadata": {}
        }
      ]
    }
  ]
}