{
  "nbformat": 4,
  "nbformat_minor": 0,
  "metadata": {
    "colab": {
      "provenance": [],
      "gpuType": "T4",
      "authorship_tag": "ABX9TyPBf6JEAjjdHtFaREkmGQJ0",
      "include_colab_link": true
    },
    "kernelspec": {
      "name": "python3",
      "display_name": "Python 3"
    },
    "language_info": {
      "name": "python"
    },
    "accelerator": "GPU"
  },
  "cells": [
    {
      "cell_type": "markdown",
      "metadata": {
        "id": "view-in-github",
        "colab_type": "text"
      },
      "source": [
        "<a href=\"https://colab.research.google.com/github/Arif-PhyChem/trace_conservation/blob/main/unconstrained.ipynb\" target=\"_parent\"><img src=\"https://colab.research.google.com/assets/colab-badge.svg\" alt=\"Open In Colab\"/></a>"
      ]
    },
    {
      "cell_type": "markdown",
      "source": [
        "[![Open In Colab](https://colab.research.google.com/assets/colab-badge.svg)](\n",
        "https://colab.research.google.com/github/Arif-PhyChem/trace_conservation/blob/main/unconstrained.ipynb)"
      ],
      "metadata": {
        "id": "qesUG7jE9wh8"
      }
    },
    {
      "cell_type": "code",
      "execution_count": 1,
      "metadata": {
        "id": "ca5cecd1",
        "outputId": "f3cc9ca7-fcbd-46ba-8a95-54830762c658",
        "colab": {
          "base_uri": "https://localhost:8080/"
        }
      },
      "outputs": [
        {
          "output_type": "stream",
          "name": "stdout",
          "text": [
            "Cloning into 'MLQD'...\n",
            "remote: Enumerating objects: 1028, done.\u001b[K\n",
            "remote: Counting objects: 100% (304/304), done.\u001b[K\n",
            "remote: Compressing objects: 100% (200/200), done.\u001b[K\n",
            "remote: Total 1028 (delta 151), reused 219 (delta 103), pack-reused 724 (from 1)\u001b[K\n",
            "Receiving objects: 100% (1028/1028), 35.00 MiB | 1.07 MiB/s, done.\n",
            "Resolving deltas: 100% (443/443), done.\n"
          ]
        }
      ],
      "source": [
        "import sys\n",
        "import os\n",
        "\n",
        "! git clone https://github.com/Arif-PhyChem/MLQD.git"
      ]
    },
    {
      "cell_type": "code",
      "execution_count": 2,
      "metadata": {
        "id": "e1e1a3dc",
        "outputId": "83760be3-c9f2-4cb2-f3b4-3dd64bc493c4",
        "colab": {
          "base_uri": "https://localhost:8080/"
        }
      },
      "outputs": [
        {
          "output_type": "stream",
          "name": "stdout",
          "text": [
            "Requirement already satisfied: tensorflow in /usr/local/lib/python3.10/dist-packages (2.17.0)\n",
            "Requirement already satisfied: absl-py>=1.0.0 in /usr/local/lib/python3.10/dist-packages (from tensorflow) (1.4.0)\n",
            "Requirement already satisfied: astunparse>=1.6.0 in /usr/local/lib/python3.10/dist-packages (from tensorflow) (1.6.3)\n",
            "Requirement already satisfied: flatbuffers>=24.3.25 in /usr/local/lib/python3.10/dist-packages (from tensorflow) (24.3.25)\n",
            "Requirement already satisfied: gast!=0.5.0,!=0.5.1,!=0.5.2,>=0.2.1 in /usr/local/lib/python3.10/dist-packages (from tensorflow) (0.6.0)\n",
            "Requirement already satisfied: google-pasta>=0.1.1 in /usr/local/lib/python3.10/dist-packages (from tensorflow) (0.2.0)\n",
            "Requirement already satisfied: h5py>=3.10.0 in /usr/local/lib/python3.10/dist-packages (from tensorflow) (3.11.0)\n",
            "Requirement already satisfied: libclang>=13.0.0 in /usr/local/lib/python3.10/dist-packages (from tensorflow) (18.1.1)\n",
            "Requirement already satisfied: ml-dtypes<0.5.0,>=0.3.1 in /usr/local/lib/python3.10/dist-packages (from tensorflow) (0.4.0)\n",
            "Requirement already satisfied: opt-einsum>=2.3.2 in /usr/local/lib/python3.10/dist-packages (from tensorflow) (3.3.0)\n",
            "Requirement already satisfied: packaging in /usr/local/lib/python3.10/dist-packages (from tensorflow) (24.1)\n",
            "Requirement already satisfied: protobuf!=4.21.0,!=4.21.1,!=4.21.2,!=4.21.3,!=4.21.4,!=4.21.5,<5.0.0dev,>=3.20.3 in /usr/local/lib/python3.10/dist-packages (from tensorflow) (3.20.3)\n",
            "Requirement already satisfied: requests<3,>=2.21.0 in /usr/local/lib/python3.10/dist-packages (from tensorflow) (2.32.3)\n",
            "Requirement already satisfied: setuptools in /usr/local/lib/python3.10/dist-packages (from tensorflow) (71.0.4)\n",
            "Requirement already satisfied: six>=1.12.0 in /usr/local/lib/python3.10/dist-packages (from tensorflow) (1.16.0)\n",
            "Requirement already satisfied: termcolor>=1.1.0 in /usr/local/lib/python3.10/dist-packages (from tensorflow) (2.4.0)\n",
            "Requirement already satisfied: typing-extensions>=3.6.6 in /usr/local/lib/python3.10/dist-packages (from tensorflow) (4.12.2)\n",
            "Requirement already satisfied: wrapt>=1.11.0 in /usr/local/lib/python3.10/dist-packages (from tensorflow) (1.16.0)\n",
            "Requirement already satisfied: grpcio<2.0,>=1.24.3 in /usr/local/lib/python3.10/dist-packages (from tensorflow) (1.64.1)\n",
            "Requirement already satisfied: tensorboard<2.18,>=2.17 in /usr/local/lib/python3.10/dist-packages (from tensorflow) (2.17.0)\n",
            "Requirement already satisfied: keras>=3.2.0 in /usr/local/lib/python3.10/dist-packages (from tensorflow) (3.4.1)\n",
            "Requirement already satisfied: tensorflow-io-gcs-filesystem>=0.23.1 in /usr/local/lib/python3.10/dist-packages (from tensorflow) (0.37.1)\n",
            "Requirement already satisfied: numpy<2.0.0,>=1.23.5 in /usr/local/lib/python3.10/dist-packages (from tensorflow) (1.26.4)\n",
            "Requirement already satisfied: wheel<1.0,>=0.23.0 in /usr/local/lib/python3.10/dist-packages (from astunparse>=1.6.0->tensorflow) (0.44.0)\n",
            "Requirement already satisfied: rich in /usr/local/lib/python3.10/dist-packages (from keras>=3.2.0->tensorflow) (13.8.0)\n",
            "Requirement already satisfied: namex in /usr/local/lib/python3.10/dist-packages (from keras>=3.2.0->tensorflow) (0.0.8)\n",
            "Requirement already satisfied: optree in /usr/local/lib/python3.10/dist-packages (from keras>=3.2.0->tensorflow) (0.12.1)\n",
            "Requirement already satisfied: charset-normalizer<4,>=2 in /usr/local/lib/python3.10/dist-packages (from requests<3,>=2.21.0->tensorflow) (3.3.2)\n",
            "Requirement already satisfied: idna<4,>=2.5 in /usr/local/lib/python3.10/dist-packages (from requests<3,>=2.21.0->tensorflow) (3.8)\n",
            "Requirement already satisfied: urllib3<3,>=1.21.1 in /usr/local/lib/python3.10/dist-packages (from requests<3,>=2.21.0->tensorflow) (2.0.7)\n",
            "Requirement already satisfied: certifi>=2017.4.17 in /usr/local/lib/python3.10/dist-packages (from requests<3,>=2.21.0->tensorflow) (2024.7.4)\n",
            "Requirement already satisfied: markdown>=2.6.8 in /usr/local/lib/python3.10/dist-packages (from tensorboard<2.18,>=2.17->tensorflow) (3.7)\n",
            "Requirement already satisfied: tensorboard-data-server<0.8.0,>=0.7.0 in /usr/local/lib/python3.10/dist-packages (from tensorboard<2.18,>=2.17->tensorflow) (0.7.2)\n",
            "Requirement already satisfied: werkzeug>=1.0.1 in /usr/local/lib/python3.10/dist-packages (from tensorboard<2.18,>=2.17->tensorflow) (3.0.4)\n",
            "Requirement already satisfied: MarkupSafe>=2.1.1 in /usr/local/lib/python3.10/dist-packages (from werkzeug>=1.0.1->tensorboard<2.18,>=2.17->tensorflow) (2.1.5)\n",
            "Requirement already satisfied: markdown-it-py>=2.2.0 in /usr/local/lib/python3.10/dist-packages (from rich->keras>=3.2.0->tensorflow) (3.0.0)\n",
            "Requirement already satisfied: pygments<3.0.0,>=2.13.0 in /usr/local/lib/python3.10/dist-packages (from rich->keras>=3.2.0->tensorflow) (2.16.1)\n",
            "Requirement already satisfied: mdurl~=0.1 in /usr/local/lib/python3.10/dist-packages (from markdown-it-py>=2.2.0->rich->keras>=3.2.0->tensorflow) (0.1.2)\n",
            "Collecting sklearn\n",
            "  Downloading sklearn-0.0.post12.tar.gz (2.6 kB)\n",
            "  \u001b[1;31merror\u001b[0m: \u001b[1msubprocess-exited-with-error\u001b[0m\n",
            "  \n",
            "  \u001b[31m×\u001b[0m \u001b[32mpython setup.py egg_info\u001b[0m did not run successfully.\n",
            "  \u001b[31m│\u001b[0m exit code: \u001b[1;36m1\u001b[0m\n",
            "  \u001b[31m╰─>\u001b[0m See above for output.\n",
            "  \n",
            "  \u001b[1;35mnote\u001b[0m: This error originates from a subprocess, and is likely not a problem with pip.\n",
            "  Preparing metadata (setup.py) ... \u001b[?25l\u001b[?25herror\n",
            "\u001b[1;31merror\u001b[0m: \u001b[1mmetadata-generation-failed\u001b[0m\n",
            "\n",
            "\u001b[31m×\u001b[0m Encountered error while generating package metadata.\n",
            "\u001b[31m╰─>\u001b[0m See above for output.\n",
            "\n",
            "\u001b[1;35mnote\u001b[0m: This is an issue with the package mentioned above, not pip.\n",
            "\u001b[1;36mhint\u001b[0m: See above for details.\n",
            "Requirement already satisfied: hyperopt in /usr/local/lib/python3.10/dist-packages (0.2.7)\n",
            "Requirement already satisfied: numpy in /usr/local/lib/python3.10/dist-packages (from hyperopt) (1.26.4)\n",
            "Requirement already satisfied: scipy in /usr/local/lib/python3.10/dist-packages (from hyperopt) (1.13.1)\n",
            "Requirement already satisfied: six in /usr/local/lib/python3.10/dist-packages (from hyperopt) (1.16.0)\n",
            "Requirement already satisfied: networkx>=2.2 in /usr/local/lib/python3.10/dist-packages (from hyperopt) (3.3)\n",
            "Requirement already satisfied: future in /usr/local/lib/python3.10/dist-packages (from hyperopt) (1.0.0)\n",
            "Requirement already satisfied: tqdm in /usr/local/lib/python3.10/dist-packages (from hyperopt) (4.66.5)\n",
            "Requirement already satisfied: cloudpickle in /usr/local/lib/python3.10/dist-packages (from hyperopt) (2.2.1)\n",
            "Requirement already satisfied: py4j in /usr/local/lib/python3.10/dist-packages (from hyperopt) (0.10.9.7)\n"
          ]
        }
      ],
      "source": [
        "# install the required packages\n",
        "\n",
        "! pip install tensorflow --upgrade\n",
        "! pip install sklearn\n",
        "! pip install hyperopt"
      ]
    },
    {
      "cell_type": "code",
      "source": [
        "import numpy as np\n",
        "import tensorflow as tf\n",
        "import matplotlib.pyplot as plt"
      ],
      "metadata": {
        "id": "nflcx59vnOGH"
      },
      "execution_count": 3,
      "outputs": []
    },
    {
      "cell_type": "code",
      "execution_count": 4,
      "metadata": {
        "id": "8e9b292c"
      },
      "outputs": [],
      "source": [
        "# Add MLQD's path to system path\n",
        "\n",
        "mlqd_dir='MLQD/dev_ver'\n",
        "sys.path.append(mlqd_dir)\n",
        "\n",
        "from evolution import quant_dyn\n",
        "\n"
      ]
    },
    {
      "cell_type": "code",
      "source": [
        "# get training and test data files from github\n",
        "! git clone https://github.com/Arif-PhyChem/trace_conservation.git"
      ],
      "metadata": {
        "id": "jA7P5vCdaRIr",
        "outputId": "60d92bdd-b7d7-40d1-95c2-097f9aa58fe7",
        "colab": {
          "base_uri": "https://localhost:8080/"
        }
      },
      "execution_count": 5,
      "outputs": [
        {
          "output_type": "stream",
          "name": "stdout",
          "text": [
            "Cloning into 'trace_conservation'...\n",
            "remote: Enumerating objects: 111, done.\u001b[K\n",
            "remote: Counting objects: 100% (1/1), done.\u001b[K\n",
            "remote: Total 111 (delta 0), reused 0 (delta 0), pack-reused 110 (from 1)\u001b[K\n",
            "Receiving objects: 100% (111/111), 200.69 MiB | 12.92 MiB/s, done.\n",
            "Resolving deltas: 100% (2/2), done.\n"
          ]
        }
      ]
    },
    {
      "cell_type": "markdown",
      "source": [
        "# Unconstrained NN\n",
        "In the case of unconstrained NN---a single, multi-output CNN is designed to learn all RDM elements, incorporating a loss function that aggregates errors across all states (sites):\n",
        "\n",
        "\\begin{equation}\n",
        "    \\mathcal{L}_\\text{multi} =  \\sum_{n=1}^N \\mathcal{L}_{nn}.\n",
        "\\end{equation}\n",
        "\n",
        "where\n",
        "\\begin{equation}\n",
        "    \\mathcal{L}_{nn} =  \\sum_{m=1}^M \\left(\\bar{\\tilde{\\rho}}_{{\\rm S},nn,m} - \\tilde{\\rho}_{{\\rm S},nn,m} \\right)^2,\n",
        "\\end{equation}\n",
        "\n",
        "with $\\bar{\\tilde{\\rho}}_{{\\rm S},nn}$ as NN-predicted values and $\\tilde{\\rho}_{{\\rm S},nn}$ as the reference counterpart. Furthermore, $M$ is the number of training points and $m$ is the index of a training point.\n",
        "\n",
        "However, despite being exposed to the dynamics of all states, this solution still exhibits minor but noticeable trace violations.\n",
        "\n",
        "To facilitate the training process, we provide pre-prepared training files named 'x.npy' and 'y.npy'. However, if you wish to create your own training files, you can utilize the MLQD tool, available on GitHub at https://github.com/Arif-PhyChem/MLQD, in conjunction with the SB dataset from the QD3SET-1 database, which can be accessed via the DOI link https://doi.org/10.25452/figshare.plus.c.6389553"
      ],
      "metadata": {
        "id": "nbhZm6eHCZdx"
      }
    },
    {
      "cell_type": "markdown",
      "source": [
        "## Unconstrained CNN model for SB model with MLQD\n",
        "\n",
        "For quick run, we are setting training epochs 'TrEpochs' to 10, you should set it to a higher number for better training\n",
        "\n"
      ],
      "metadata": {
        "id": "Gby5NTeAOayC"
      }
    },
    {
      "cell_type": "code",
      "source": [
        "# sb training files (x and y) for unconstrained NN\n",
        "! ls trace_conservation/training_data/sb/unconstrained"
      ],
      "metadata": {
        "id": "QvYABW1-ak5P",
        "outputId": "ce2f1015-7c2f-44f3-b22e-274c2a5b9cdf",
        "colab": {
          "base_uri": "https://localhost:8080/"
        }
      },
      "execution_count": 6,
      "outputs": [
        {
          "output_type": "stream",
          "name": "stdout",
          "text": [
            "x.npy  y.npy\n"
          ]
        }
      ]
    },
    {
      "cell_type": "code",
      "execution_count": 7,
      "metadata": {
        "id": "742a43b6",
        "outputId": "f4f9431c-936a-40e8-b4ec-6c66a6bc0086",
        "colab": {
          "base_uri": "https://localhost:8080/"
        }
      },
      "outputs": [
        {
          "output_type": "stream",
          "name": "stdout",
          "text": [
            "=================================================================\n",
            "MLQD is a python package developed for Machine Learning-based Quantum Dissipative Dynamics,\n",
            " \t\t\t\t  Version 1.1.1\n",
            "\t\t\t https://github.com/Arif-PhyChem/MLQD\n",
            "\n",
            " \t\t\t Copyright (c) 2023 Arif Ullah\n",
            "\n",
            "All rights reserved. This work is licensed under the Apache Software License 2.0\n",
            "\n",
            "\n",
            "The above copyright notice and this permission notice shall be included \n",
            "in all copies or substantial portions of the Software.\n",
            "\n",
            "\n",
            "The software is provided \"as is\" without warranty of any kind, express or implied, \n",
            "including but not limited to the warranties ofmerchantability, fitness for a particular \n",
            "purpose and noninfringement. In no event shall the authors or copyright holders be \n",
            "liable for any claim, damages or other liability, whether in an action of contract, tort or otherwise, \n",
            "arising from, out of or in connection with the software or the use or other dealings in the software.\n",
            "\n",
            "\n",
            "\t\t\t\t Cite as:\n",
            "\n",
            "1) Ullah A. and Dral P. O., Computer Physics Communications, 2023, 294, 108940\n",
            "2) Ullah A. and Dral P. O., New Journal of Physics, 2021, 23(11), 113019\n",
            "3) Ullah A. and Dral P. O., Nature Communications, 2022, 13(1), 1930\n",
            "4) Ullah A. and Dral P. O., Journal of Physical Chemistry Letters, 2022, 13(26), 6037\n",
            "5) Rodriguez L. E. H.; Ullah A.; Espinosa K. J. R.; Dral P. O. and Kananenka A. A., Machine Learning: Science and Technology, 2022, 3(4), 045016\n",
            "6) Ullah, A., Rodriguez, L. E. H., Dral P. O., and Kananenka, A. A., Frontiers in Physics, 2023, 11, 1223973\n",
            "\n",
            "Contributers List:\n",
            "\n",
            "1) Arif Ullah (main) \n",
            "2) Pavlo O. Dral\n",
            "=================================================================\n",
            "MLQD is started at 2024-08-29 07:41:03.577235\n",
            "=================================================================\n",
            "Setting \"systemType\" to SB\n",
            "MLQD is running with the option QDmodel =  createQDmodel\n",
            "Setting ML Model Type \"QDmodelType\" to RCDYN\n",
            "Setting number of states \"n_states\" to 2\n",
            "You have chosen not to prepare the input files, othewise you should pass \"True\" to prepInput\n",
            "Setting \"MLmodel\" to default option cnn\n",
            "Xfilein is trace_conservation/training_data/sb/unconstrained/x\n",
            "YfileIn is trace_conservation/training_data/sb/unconstrained/y\n",
            "You have chosen not to optimize the hyper parameters of the model, otherwise you should pass \"True\" to hyperParam\n",
            "=================================================================\n",
            "Setting patience for early stopping to 30\n",
            "Setting number of epochs for training to 10\n",
            "Running with the default value of gamma normalizeer; gammaNorm = 10 \n",
            "Running with the default value of lambda normalizer; lambNorm = 1.0 \n",
            "Running with the default value of temperature (or inverse temperature) normalizer; tempNorm = 1.0 \n",
            "=================================================================\n",
            "Setting length of x-input \"xlength\" to default value 81\n",
            "Running with the the dafault propagation time: 20\n",
            "Running with the dafault time-step: 0.05\n",
            "Running with default option: pinn=False, training an unconstrained neural network (PINN)\n",
            "Running with default prior option 0 with no trace conservation\n",
            "=================================================================\n",
            "Running with default option: ostl_steps =  1\n",
            "Normalization constants are dumped at norm_const.pkl\n",
            "=================================================================\n",
            "Data: Checking to see whether the input data files trace_conservation/training_data/sb/unconstrained/x.npy and trace_conservation/training_data/sb/unconstrained/y.npy exist\n",
            "Data: Loading data files trace_conservation/training_data/sb/unconstrained/x.npy and trace_conservation/training_data/sb/unconstrained/y.npy\n",
            "Data: splitting data into sub-training/validation sets with 80/20 % ratio\n",
            "=================================================================\n",
            "ml_model.cnn: Looking for best_cnn_params.pkl\n",
            "=================================================================\n",
            "ml_models.cnn: best_cnn_params.pkl not found, thus training CNN model with the default structure\n",
            "=================================================================\n",
            "ml_models.cnn: Running wth EarlyStopping of patience = 30\n",
            "ml_models.cnn: Running with batch size = 64 and epochs = 10\n",
            "=================================================================\n"
          ]
        },
        {
          "output_type": "stream",
          "name": "stderr",
          "text": [
            "/usr/local/lib/python3.10/dist-packages/keras/src/layers/convolutional/base_conv.py:107: UserWarning: Do not pass an `input_shape`/`input_dim` argument to a layer. When using Sequential models, prefer using an `Input(shape)` object as the first layer in the model instead.\n",
            "  super().__init__(activity_regularizer=activity_regularizer, **kwargs)\n"
          ]
        },
        {
          "output_type": "stream",
          "name": "stdout",
          "text": [
            "Directory trained_models created sucessfully where the trained models will be saved\n",
            "Epoch 1/10\n",
            "\n",
            "Epoch 1: val_loss improved from inf to 0.00266, saving model to trained_models/cnn_model-01-tloss-2.185e-02-vloss-2.655e-03.keras\n",
            "90/90 - 10s - 108ms/step - loss: 0.0218 - val_loss: 0.0027\n",
            "Epoch 2/10\n",
            "\n",
            "Epoch 2: val_loss improved from 0.00266 to 0.00046, saving model to trained_models/cnn_model-02-tloss-1.131e-03-vloss-4.594e-04.keras\n",
            "90/90 - 3s - 28ms/step - loss: 0.0011 - val_loss: 4.5939e-04\n",
            "Epoch 3/10\n",
            "\n",
            "Epoch 3: val_loss improved from 0.00046 to 0.00012, saving model to trained_models/cnn_model-03-tloss-2.433e-04-vloss-1.236e-04.keras\n",
            "90/90 - 0s - 5ms/step - loss: 2.4330e-04 - val_loss: 1.2357e-04\n",
            "Epoch 4/10\n",
            "\n",
            "Epoch 4: val_loss improved from 0.00012 to 0.00008, saving model to trained_models/cnn_model-04-tloss-1.082e-04-vloss-8.092e-05.keras\n",
            "90/90 - 0s - 5ms/step - loss: 1.0815e-04 - val_loss: 8.0917e-05\n",
            "Epoch 5/10\n",
            "\n",
            "Epoch 5: val_loss improved from 0.00008 to 0.00006, saving model to trained_models/cnn_model-05-tloss-8.110e-05-vloss-5.946e-05.keras\n",
            "90/90 - 1s - 6ms/step - loss: 8.1100e-05 - val_loss: 5.9463e-05\n",
            "Epoch 6/10\n",
            "\n",
            "Epoch 6: val_loss improved from 0.00006 to 0.00005, saving model to trained_models/cnn_model-06-tloss-6.081e-05-vloss-5.016e-05.keras\n",
            "90/90 - 1s - 6ms/step - loss: 6.0814e-05 - val_loss: 5.0156e-05\n",
            "Epoch 7/10\n",
            "\n",
            "Epoch 7: val_loss did not improve from 0.00005\n",
            "90/90 - 0s - 5ms/step - loss: 6.6310e-05 - val_loss: 5.6952e-05\n",
            "Epoch 8/10\n",
            "\n",
            "Epoch 8: val_loss improved from 0.00005 to 0.00005, saving model to trained_models/cnn_model-08-tloss-4.559e-05-vloss-4.555e-05.keras\n",
            "90/90 - 1s - 6ms/step - loss: 4.5587e-05 - val_loss: 4.5548e-05\n",
            "Epoch 9/10\n",
            "\n",
            "Epoch 9: val_loss did not improve from 0.00005\n",
            "90/90 - 1s - 6ms/step - loss: 4.6824e-05 - val_loss: 4.9949e-05\n",
            "Epoch 10/10\n",
            "\n",
            "Epoch 10: val_loss did not improve from 0.00005\n",
            "90/90 - 1s - 6ms/step - loss: 4.4085e-05 - val_loss: 8.1889e-05\n",
            "Train_ml.RCDYN: Time taken for training = 17.490170001983643 sec\n",
            "=================================================================\n",
            "=================================================================\n",
            "MLQD is ended at 2024-08-29 07:41:21.082703\n"
          ]
        },
        {
          "output_type": "execute_result",
          "data": {
            "text/plain": [
              "<evolution.quant_dyn at 0x7fddaaf49b10>"
            ]
          },
          "metadata": {},
          "execution_count": 7
        }
      ],
      "source": [
        "# input for MLQD package, more details are given at https://github.com/Arif-PhyChem/MLQD\n",
        "param={\n",
        "    'n_states': 2,\n",
        "      'QDmodel': 'createQDmodel',     # str: create QD model. The dafault option is useQDmodel\n",
        "      'QDmodelType': 'RCDYN',           # str: The type of model. Here KRR and the default option is OSTL\n",
        "      'prepInput' : 'False',           # str: Prepare input files from the data (Default 'False')\n",
        "      'XfileIn': 'trace_conservation/training_data/sb/unconstrained/x',  # str: (Optional) The prepared X file\n",
        "      'YfileIn': 'trace_conservation/training_data/sb/unconstrained/y',  # str: (Optional) The prepared Y file\n",
        "      'hyperParam': 'False',  # str: Default is 'False', we can pass 'True' (optimize the hyperparameters) or 'False' (don't optimize and run with the default values)\n",
        "      'patience': 30,\n",
        "      'OptEpochs': 30,\n",
        "      'TrEpochs': 10,\n",
        "      'max_evals': 30,\n",
        "      'systemType': 'SB'\n",
        "      }\n",
        "quant_dyn(**param)\n",
        "\n"
      ]
    },
    {
      "cell_type": "markdown",
      "source": [
        "## Test for a test trajectory."
      ],
      "metadata": {
        "id": "_1LQlzmnLKQE"
      }
    },
    {
      "cell_type": "code",
      "source": [
        "# test tarjectory\n",
        "! ls trace_conservation/test_data/sb/"
      ],
      "metadata": {
        "colab": {
          "base_uri": "https://localhost:8080/"
        },
        "id": "C_sVIUjdQemH",
        "outputId": "80309ea9-1c20-4552-9889-c3549fc78571"
      },
      "execution_count": 8,
      "outputs": [
        {
          "output_type": "stream",
          "name": "stdout",
          "text": [
            "2_epsilon-0.0_Delta-1.0_lambda-0.6_gamma-9.0_beta-1.0.npy\n"
          ]
        }
      ]
    },
    {
      "cell_type": "code",
      "execution_count": 15,
      "metadata": {
        "id": "c5e6a6b5-86f5-42f2-a1df-b7ad9422d466",
        "colab": {
          "base_uri": "https://localhost:8080/",
          "height": 1000
        },
        "outputId": "8da2b0d6-cbc6-4d30-9cbc-99e550af26b4"
      },
      "outputs": [
        {
          "output_type": "stream",
          "name": "stdout",
          "text": [
            "=================================================================\n",
            "MLQD is a python package developed for Machine Learning-based Quantum Dissipative Dynamics,\n",
            " \t\t\t\t  Version 1.1.1\n",
            "\t\t\t https://github.com/Arif-PhyChem/MLQD\n",
            "\n",
            " \t\t\t Copyright (c) 2023 Arif Ullah\n",
            "\n",
            "All rights reserved. This work is licensed under the Apache Software License 2.0\n",
            "\n",
            "\n",
            "The above copyright notice and this permission notice shall be included \n",
            "in all copies or substantial portions of the Software.\n",
            "\n",
            "\n",
            "The software is provided \"as is\" without warranty of any kind, express or implied, \n",
            "including but not limited to the warranties ofmerchantability, fitness for a particular \n",
            "purpose and noninfringement. In no event shall the authors or copyright holders be \n",
            "liable for any claim, damages or other liability, whether in an action of contract, tort or otherwise, \n",
            "arising from, out of or in connection with the software or the use or other dealings in the software.\n",
            "\n",
            "\n",
            "\t\t\t\t Cite as:\n",
            "\n",
            "1) Ullah A. and Dral P. O., Computer Physics Communications, 2023, 294, 108940\n",
            "2) Ullah A. and Dral P. O., New Journal of Physics, 2021, 23(11), 113019\n",
            "3) Ullah A. and Dral P. O., Nature Communications, 2022, 13(1), 1930\n",
            "4) Ullah A. and Dral P. O., Journal of Physical Chemistry Letters, 2022, 13(26), 6037\n",
            "5) Rodriguez L. E. H.; Ullah A.; Espinosa K. J. R.; Dral P. O. and Kananenka A. A., Machine Learning: Science and Technology, 2022, 3(4), 045016\n",
            "6) Ullah, A., Rodriguez, L. E. H., Dral P. O., and Kananenka, A. A., Frontiers in Physics, 2023, 11, 1223973\n",
            "\n",
            "Contributers List:\n",
            "\n",
            "1) Arif Ullah (main) \n",
            "2) Pavlo O. Dral\n",
            "=================================================================\n",
            "MLQD is started at 2024-08-29 07:48:18.737189\n",
            "=================================================================\n",
            "Setting \"systemType\" to SB\n",
            "MLQD is running with the option QDmodel =  useQDmodel\n",
            "Setting ML Model Type \"QDmodelType\" to RCDYN\n",
            "Setting number of states \"n_states\" to 2\n",
            "Setting propagation time \"time\" to 10\n",
            "Running with the dafault time-step: 0.05\n",
            "Using the trained model(s) \"trained_models/cnn_model-08-tloss-4.559e-05-vloss-4.555e-05.keras\" for dynamics prediction\n",
            "As energy difference is not provided, the ML-QD is running with the dafault option energyDiff = 0.0\n",
            "As tunneling is not provided, the ML-QD is running with the dafault option Delta = 1.0\n",
            "Running with the default value of cutt-off frequency; gamma =  10\n",
            "Running with the default value of system-bath coupling strength; lamb =  1.0\n",
            "Running with the default temperature (or inverse temperature) value temp =  1.0\n",
            "=================================================================\n",
            "=================================================================\n",
            "evolution: Looking for norm_const.pkl\n",
            "Reading normalization constants from norm_const.pkl\n",
            "=================================================================\n",
            "Setting gamma normalizeer \"gammaNorm\" to 10.0\n",
            "Setting lambda normalizer \"lambNormalizer\" to 1.0\n",
            "Setting temperature (or inverse temperature) normalizer \"tempNorm\" to 1.0\n",
            "The input is = [[ 1.00000000e+00+0.j          0.00000000e+00+0.j\n",
            "   0.00000000e+00+0.j          0.00000000e+00+0.j        ]\n",
            " [ 9.97529306e-01+0.j         -3.54603392e-04+0.04905176j\n",
            "  -3.54603392e-04-0.04905176j  2.47069446e-03+0.j        ]\n",
            " [ 9.90281757e-01+0.j         -2.24684600e-03+0.09537154j\n",
            "  -2.24684600e-03-0.09537154j  9.71824309e-03+0.j        ]\n",
            " [ 9.78568280e-01+0.j         -6.04519179e-03+0.13830454j\n",
            "  -6.04519179e-03-0.13830454j  2.14317197e-02+0.j        ]\n",
            " [ 9.62742487e-01+0.j         -1.15225394e-02+0.17759308j\n",
            "  -1.15225394e-02-0.17759308j  3.72575134e-02+0.j        ]\n",
            " [ 9.43174278e-01+0.j         -1.82703150e-02+0.21314543j\n",
            "  -1.82703150e-02-0.21314543j  5.68257217e-02+0.j        ]\n",
            " [ 9.20238605e-01+0.j         -2.58823290e-02+0.24494266j\n",
            "  -2.58823290e-02-0.24494266j  7.97613945e-02+0.j        ]\n",
            " [ 8.94304809e-01+0.j         -3.40228707e-02+0.27298855j\n",
            "  -3.40228707e-02-0.27298855j  1.05695191e-01+0.j        ]\n",
            " [ 8.65752368e-01+0.j         -4.24366346e-02+0.2973146j\n",
            "  -4.24366346e-02-0.2973146j   1.34247632e-01+0.j        ]\n",
            " [ 8.34951176e-01+0.j         -5.09426968e-02+0.31795071j\n",
            "  -5.09426968e-02-0.31795071j  1.65048824e-01+0.j        ]\n",
            " [ 8.02257559e-01+0.j         -5.94164865e-02+0.3349082j\n",
            "  -5.94164865e-02-0.3349082j   1.97742441e-01+0.j        ]\n",
            " [ 7.68053071e-01+0.j         -6.77766735e-02+0.34826546j\n",
            "  -6.77766735e-02-0.34826546j  2.31946929e-01+0.j        ]\n",
            " [ 7.32694750e-01+0.j         -7.59720083e-02+0.35808166j\n",
            "  -7.59720083e-02-0.35808166j  2.67305250e-01+0.j        ]\n",
            " [ 6.96532923e-01+0.j         -8.39712637e-02+0.36443024j\n",
            "  -8.39712637e-02-0.36443024j  3.03467077e-01+0.j        ]\n",
            " [ 6.59909892e-01+0.j         -9.17566845e-02+0.36740199j\n",
            "  -9.17566845e-02-0.36740199j  3.40090108e-01+0.j        ]\n",
            " [ 6.23157934e-01+0.j         -9.93193865e-02+0.36710588j\n",
            "  -9.93193865e-02-0.36710588j  3.76842066e-01+0.j        ]\n",
            " [ 5.86597455e-01+0.j         -1.06656213e-01+0.36366915j\n",
            "  -1.06656213e-01-0.36366915j  4.13402545e-01+0.j        ]\n",
            " [ 5.50535193e-01+0.j         -1.13767676e-01+0.35723735j\n",
            "  -1.13767676e-01-0.35723735j  4.49464807e-01+0.j        ]\n",
            " [ 5.15262438e-01+0.j         -1.20656592e-01+0.34797362j\n",
            "  -1.20656592e-01-0.34797362j  4.84737562e-01+0.j        ]\n",
            " [ 4.81053385e-01+0.j         -1.27327184e-01+0.33605742j\n",
            "  -1.27327184e-01-0.33605742j  5.18946615e-01+0.j        ]\n",
            " [ 4.48163343e-01+0.j         -1.33784555e-01+0.32168355j\n",
            "  -1.33784555e-01-0.32168355j  5.51836657e-01+0.j        ]\n",
            " [ 4.16827667e-01+0.j         -1.40034254e-01+0.30505965j\n",
            "  -1.40034254e-01-0.30505965j  5.83172333e-01+0.j        ]\n",
            " [ 3.87260091e-01+0.j         -1.46082114e-01+0.28640508j\n",
            "  -1.46082114e-01-0.28640508j  6.12739909e-01+0.j        ]\n",
            " [ 3.59652423e-01+0.j         -1.51934010e-01+0.265948j\n",
            "  -1.51934010e-01-0.265948j    6.40347577e-01+0.j        ]\n",
            " [ 3.34172590e-01+0.j         -1.57595888e-01+0.2439244j\n",
            "  -1.57595888e-01-0.2439244j   6.65827410e-01+0.j        ]\n",
            " [ 3.10964882e-01+0.j         -1.63073609e-01+0.22057504j\n",
            "  -1.63073609e-01-0.22057504j  6.89035118e-01+0.j        ]\n",
            " [ 2.90149404e-01+0.j         -1.68372934e-01+0.19614357j\n",
            "  -1.68372934e-01-0.19614357j  7.09850596e-01+0.j        ]\n",
            " [ 2.71821900e-01+0.j         -1.73499497e-01+0.17087439j\n",
            "  -1.73499497e-01-0.17087439j  7.28178100e-01+0.j        ]\n",
            " [ 2.56053804e-01+0.j         -1.78458798e-01+0.14501068j\n",
            "  -1.78458798e-01-0.14501068j  7.43946196e-01+0.j        ]\n",
            " [ 2.42892167e-01+0.j         -1.83256201e-01+0.1187924j\n",
            "  -1.83256201e-01-0.1187924j   7.57107833e-01+0.j        ]\n",
            " [ 2.32360430e-01+0.j         -1.87896920e-01+0.09245433j\n",
            "  -1.87896920e-01-0.09245433j  7.67639570e-01+0.j        ]\n",
            " [ 2.24459084e-01+0.j         -1.92386003e-01+0.0662243j\n",
            "  -1.92386003e-01-0.0662243j   7.75540916e-01+0.j        ]\n",
            " [ 2.19165880e-01+0.j         -1.96728374e-01+0.04032149j\n",
            "  -1.96728374e-01-0.04032149j  7.80834120e-01+0.j        ]\n",
            " [ 2.16437084e-01+0.j         -2.00928809e-01+0.01495476j\n",
            "  -2.00928809e-01-0.01495476j  7.83562916e-01+0.j        ]\n",
            " [ 2.16208904e-01+0.j         -2.04991924e-01-0.00967864j\n",
            "  -2.04991924e-01+0.00967864j  7.83791096e-01+0.j        ]\n",
            " [ 2.18398568e-01+0.j         -2.08922186e-01-0.03339436j\n",
            "  -2.08922186e-01+0.03339436j  7.81601432e-01+0.j        ]\n",
            " [ 2.22905527e-01+0.j         -2.12723922e-01-0.05602208j\n",
            "  -2.12723922e-01+0.05602208j  7.77094473e-01+0.j        ]\n",
            " [ 2.29612898e-01+0.j         -2.16401328e-01-0.07740653j\n",
            "  -2.16401328e-01+0.07740653j  7.70387102e-01+0.j        ]\n",
            " [ 2.38389065e-01+0.j         -2.19958463e-01-0.09740828j\n",
            "  -2.19958463e-01+0.09740828j  7.61610935e-01+0.j        ]\n",
            " [ 2.49089505e-01+0.j         -2.23399243e-01-0.11590418j\n",
            "  -2.23399243e-01+0.11590418j  7.50910495e-01+0.j        ]\n",
            " [ 2.61557926e-01+0.j         -2.26727479e-01-0.13278832j\n",
            "  -2.26727479e-01+0.13278832j  7.38442074e-01+0.j        ]]\n",
            "You have chosen not to impose the constraint of trace conservation, otherwise you should pass \"True\" to cons_trace\n",
            "=================================================================\n",
            "Running with default prior option 0 with no trace conservation\n",
            "=================================================================\n",
            "Running with ostl_steps =  20\n"
          ]
        },
        {
          "output_type": "display_data",
          "data": {
            "text/plain": [
              "\u001b[1mModel: \"sequential\"\u001b[0m\n"
            ],
            "text/html": [
              "<pre style=\"white-space:pre;overflow-x:auto;line-height:normal;font-family:Menlo,'DejaVu Sans Mono',consolas,'Courier New',monospace\"><span style=\"font-weight: bold\">Model: \"sequential\"</span>\n",
              "</pre>\n"
            ]
          },
          "metadata": {}
        },
        {
          "output_type": "display_data",
          "data": {
            "text/plain": [
              "┏━━━━━━━━━━━━━━━━━━━━━━━━━━━━━━━━━━━━━━┳━━━━━━━━━━━━━━━━━━━━━━━━━━━━━┳━━━━━━━━━━━━━━━━━┓\n",
              "┃\u001b[1m \u001b[0m\u001b[1mLayer (type)                        \u001b[0m\u001b[1m \u001b[0m┃\u001b[1m \u001b[0m\u001b[1mOutput Shape               \u001b[0m\u001b[1m \u001b[0m┃\u001b[1m \u001b[0m\u001b[1m        Param #\u001b[0m\u001b[1m \u001b[0m┃\n",
              "┡━━━━━━━━━━━━━━━━━━━━━━━━━━━━━━━━━━━━━━╇━━━━━━━━━━━━━━━━━━━━━━━━━━━━━╇━━━━━━━━━━━━━━━━━┩\n",
              "│ conv1d (\u001b[38;5;33mConv1D\u001b[0m)                      │ (\u001b[38;5;45mNone\u001b[0m, \u001b[38;5;34m165\u001b[0m, \u001b[38;5;34m80\u001b[0m)             │             \u001b[38;5;34m320\u001b[0m │\n",
              "├──────────────────────────────────────┼─────────────────────────────┼─────────────────┤\n",
              "│ conv1d_1 (\u001b[38;5;33mConv1D\u001b[0m)                    │ (\u001b[38;5;45mNone\u001b[0m, \u001b[38;5;34m165\u001b[0m, \u001b[38;5;34m110\u001b[0m)            │          \u001b[38;5;34m26,510\u001b[0m │\n",
              "├──────────────────────────────────────┼─────────────────────────────┼─────────────────┤\n",
              "│ conv1d_2 (\u001b[38;5;33mConv1D\u001b[0m)                    │ (\u001b[38;5;45mNone\u001b[0m, \u001b[38;5;34m165\u001b[0m, \u001b[38;5;34m80\u001b[0m)             │          \u001b[38;5;34m26,480\u001b[0m │\n",
              "├──────────────────────────────────────┼─────────────────────────────┼─────────────────┤\n",
              "│ max_pooling1d (\u001b[38;5;33mMaxPooling1D\u001b[0m)         │ (\u001b[38;5;45mNone\u001b[0m, \u001b[38;5;34m82\u001b[0m, \u001b[38;5;34m80\u001b[0m)              │               \u001b[38;5;34m0\u001b[0m │\n",
              "├──────────────────────────────────────┼─────────────────────────────┼─────────────────┤\n",
              "│ flatten (\u001b[38;5;33mFlatten\u001b[0m)                    │ (\u001b[38;5;45mNone\u001b[0m, \u001b[38;5;34m6560\u001b[0m)                │               \u001b[38;5;34m0\u001b[0m │\n",
              "├──────────────────────────────────────┼─────────────────────────────┼─────────────────┤\n",
              "│ dense (\u001b[38;5;33mDense\u001b[0m)                        │ (\u001b[38;5;45mNone\u001b[0m, \u001b[38;5;34m32\u001b[0m)                  │         \u001b[38;5;34m209,952\u001b[0m │\n",
              "├──────────────────────────────────────┼─────────────────────────────┼─────────────────┤\n",
              "│ dense_1 (\u001b[38;5;33mDense\u001b[0m)                      │ (\u001b[38;5;45mNone\u001b[0m, \u001b[38;5;34m128\u001b[0m)                 │           \u001b[38;5;34m4,224\u001b[0m │\n",
              "├──────────────────────────────────────┼─────────────────────────────┼─────────────────┤\n",
              "│ dense_2 (\u001b[38;5;33mDense\u001b[0m)                      │ (\u001b[38;5;45mNone\u001b[0m, \u001b[38;5;34m80\u001b[0m)                  │          \u001b[38;5;34m10,320\u001b[0m │\n",
              "└──────────────────────────────────────┴─────────────────────────────┴─────────────────┘\n"
            ],
            "text/html": [
              "<pre style=\"white-space:pre;overflow-x:auto;line-height:normal;font-family:Menlo,'DejaVu Sans Mono',consolas,'Courier New',monospace\">┏━━━━━━━━━━━━━━━━━━━━━━━━━━━━━━━━━━━━━━┳━━━━━━━━━━━━━━━━━━━━━━━━━━━━━┳━━━━━━━━━━━━━━━━━┓\n",
              "┃<span style=\"font-weight: bold\"> Layer (type)                         </span>┃<span style=\"font-weight: bold\"> Output Shape                </span>┃<span style=\"font-weight: bold\">         Param # </span>┃\n",
              "┡━━━━━━━━━━━━━━━━━━━━━━━━━━━━━━━━━━━━━━╇━━━━━━━━━━━━━━━━━━━━━━━━━━━━━╇━━━━━━━━━━━━━━━━━┩\n",
              "│ conv1d (<span style=\"color: #0087ff; text-decoration-color: #0087ff\">Conv1D</span>)                      │ (<span style=\"color: #00d7ff; text-decoration-color: #00d7ff\">None</span>, <span style=\"color: #00af00; text-decoration-color: #00af00\">165</span>, <span style=\"color: #00af00; text-decoration-color: #00af00\">80</span>)             │             <span style=\"color: #00af00; text-decoration-color: #00af00\">320</span> │\n",
              "├──────────────────────────────────────┼─────────────────────────────┼─────────────────┤\n",
              "│ conv1d_1 (<span style=\"color: #0087ff; text-decoration-color: #0087ff\">Conv1D</span>)                    │ (<span style=\"color: #00d7ff; text-decoration-color: #00d7ff\">None</span>, <span style=\"color: #00af00; text-decoration-color: #00af00\">165</span>, <span style=\"color: #00af00; text-decoration-color: #00af00\">110</span>)            │          <span style=\"color: #00af00; text-decoration-color: #00af00\">26,510</span> │\n",
              "├──────────────────────────────────────┼─────────────────────────────┼─────────────────┤\n",
              "│ conv1d_2 (<span style=\"color: #0087ff; text-decoration-color: #0087ff\">Conv1D</span>)                    │ (<span style=\"color: #00d7ff; text-decoration-color: #00d7ff\">None</span>, <span style=\"color: #00af00; text-decoration-color: #00af00\">165</span>, <span style=\"color: #00af00; text-decoration-color: #00af00\">80</span>)             │          <span style=\"color: #00af00; text-decoration-color: #00af00\">26,480</span> │\n",
              "├──────────────────────────────────────┼─────────────────────────────┼─────────────────┤\n",
              "│ max_pooling1d (<span style=\"color: #0087ff; text-decoration-color: #0087ff\">MaxPooling1D</span>)         │ (<span style=\"color: #00d7ff; text-decoration-color: #00d7ff\">None</span>, <span style=\"color: #00af00; text-decoration-color: #00af00\">82</span>, <span style=\"color: #00af00; text-decoration-color: #00af00\">80</span>)              │               <span style=\"color: #00af00; text-decoration-color: #00af00\">0</span> │\n",
              "├──────────────────────────────────────┼─────────────────────────────┼─────────────────┤\n",
              "│ flatten (<span style=\"color: #0087ff; text-decoration-color: #0087ff\">Flatten</span>)                    │ (<span style=\"color: #00d7ff; text-decoration-color: #00d7ff\">None</span>, <span style=\"color: #00af00; text-decoration-color: #00af00\">6560</span>)                │               <span style=\"color: #00af00; text-decoration-color: #00af00\">0</span> │\n",
              "├──────────────────────────────────────┼─────────────────────────────┼─────────────────┤\n",
              "│ dense (<span style=\"color: #0087ff; text-decoration-color: #0087ff\">Dense</span>)                        │ (<span style=\"color: #00d7ff; text-decoration-color: #00d7ff\">None</span>, <span style=\"color: #00af00; text-decoration-color: #00af00\">32</span>)                  │         <span style=\"color: #00af00; text-decoration-color: #00af00\">209,952</span> │\n",
              "├──────────────────────────────────────┼─────────────────────────────┼─────────────────┤\n",
              "│ dense_1 (<span style=\"color: #0087ff; text-decoration-color: #0087ff\">Dense</span>)                      │ (<span style=\"color: #00d7ff; text-decoration-color: #00d7ff\">None</span>, <span style=\"color: #00af00; text-decoration-color: #00af00\">128</span>)                 │           <span style=\"color: #00af00; text-decoration-color: #00af00\">4,224</span> │\n",
              "├──────────────────────────────────────┼─────────────────────────────┼─────────────────┤\n",
              "│ dense_2 (<span style=\"color: #0087ff; text-decoration-color: #0087ff\">Dense</span>)                      │ (<span style=\"color: #00d7ff; text-decoration-color: #00d7ff\">None</span>, <span style=\"color: #00af00; text-decoration-color: #00af00\">80</span>)                  │          <span style=\"color: #00af00; text-decoration-color: #00af00\">10,320</span> │\n",
              "└──────────────────────────────────────┴─────────────────────────────┴─────────────────┘\n",
              "</pre>\n"
            ]
          },
          "metadata": {}
        },
        {
          "output_type": "display_data",
          "data": {
            "text/plain": [
              "\u001b[1m Total params: \u001b[0m\u001b[38;5;34m277,806\u001b[0m (1.06 MB)\n"
            ],
            "text/html": [
              "<pre style=\"white-space:pre;overflow-x:auto;line-height:normal;font-family:Menlo,'DejaVu Sans Mono',consolas,'Courier New',monospace\"><span style=\"font-weight: bold\"> Total params: </span><span style=\"color: #00af00; text-decoration-color: #00af00\">277,806</span> (1.06 MB)\n",
              "</pre>\n"
            ]
          },
          "metadata": {}
        },
        {
          "output_type": "display_data",
          "data": {
            "text/plain": [
              "\u001b[1m Trainable params: \u001b[0m\u001b[38;5;34m277,806\u001b[0m (1.06 MB)\n"
            ],
            "text/html": [
              "<pre style=\"white-space:pre;overflow-x:auto;line-height:normal;font-family:Menlo,'DejaVu Sans Mono',consolas,'Courier New',monospace\"><span style=\"font-weight: bold\"> Trainable params: </span><span style=\"color: #00af00; text-decoration-color: #00af00\">277,806</span> (1.06 MB)\n",
              "</pre>\n"
            ]
          },
          "metadata": {}
        },
        {
          "output_type": "display_data",
          "data": {
            "text/plain": [
              "\u001b[1m Non-trainable params: \u001b[0m\u001b[38;5;34m0\u001b[0m (0.00 B)\n"
            ],
            "text/html": [
              "<pre style=\"white-space:pre;overflow-x:auto;line-height:normal;font-family:Menlo,'DejaVu Sans Mono',consolas,'Courier New',monospace\"><span style=\"font-weight: bold\"> Non-trainable params: </span><span style=\"color: #00af00; text-decoration-color: #00af00\">0</span> (0.00 B)\n",
              "</pre>\n"
            ]
          },
          "metadata": {}
        },
        {
          "output_type": "stream",
          "name": "stdout",
          "text": [
            "ml_dyn.RCDYN: Running recursive dynamics with CNN model......\n",
            "ml_dyn.RCDYN: Dynamics is saved in a file  \"unconstrained_sb_traj\"\n",
            "ml_dyn.RCDYN: Time taken = 1.0827455520629883 sec\n",
            "=================================================================\n",
            "No reference trajectory was provided, so dynamics is not plotted. You can provide reference trajectory with \"refTraj\"\n",
            "=================================================================\n",
            "MLQD is ended at 2024-08-29 07:48:19.959734\n"
          ]
        },
        {
          "output_type": "execute_result",
          "data": {
            "text/plain": [
              "<evolution.quant_dyn at 0x7fdcc79ee9e0>"
            ]
          },
          "metadata": {},
          "execution_count": 15
        }
      ],
      "source": [
        "# Here we are using MLQD for dynamics prediction, later we will calculate the\n",
        "xx = np.load('trace_conservation/test_data/sb/2_epsilon-0.0_Delta-1.0_lambda-0.6_gamma-9.0_beta-1.0.npy')\n",
        "x = xx[0:41,1:]\n",
        "\n",
        "param={\n",
        "    'n_states': 2,\n",
        "    'time': 10,\n",
        "    'ostl_steps': 20,\n",
        "      'QDmodel': 'useQDmodel',     # str: create QD model. The dafault option is useQDmodel\n",
        "      'QDmodelType': 'RCDYN',           # str: The type of model. Here KRR and the default option is OSTL\n",
        "      'XfileIn': x,           # str: (Optional) The prepared X file will be saved at the provided file name\n",
        "      'cons_trace': 'False',\n",
        "      'systemType': 'SB', # str: (Not optional) Need to define, wether your model is spin-boson (SB) or FMO complex (FMO)\n",
        "      'QDmodelIn':  'trained_models/cnn_model-08-tloss-4.559e-05-vloss-4.555e-05.keras',    # str: (Optional), providing a name to save the model at\n",
        "      'QDtrajOut': 'unconstrained_sb_traj'  # predicted trajectory will be saved with this name\n",
        "      }\n",
        "quant_dyn(**param)\n"
      ]
    },
    {
      "cell_type": "code",
      "source": [
        "# Plot trace vs time\n",
        "x = np.load('unconstrained_sb_traj.npy')\n",
        "trace = np.real(x[:,1] + x[:,4])\n",
        "\n",
        "plt.plot(x[:,0], trace)"
      ],
      "metadata": {
        "colab": {
          "base_uri": "https://localhost:8080/",
          "height": 482
        },
        "id": "r6MOQ4z4VeUS",
        "outputId": "f0ae8829-68ef-48fe-8452-7e5e0ec19450"
      },
      "execution_count": 16,
      "outputs": [
        {
          "output_type": "stream",
          "name": "stderr",
          "text": [
            "/usr/local/lib/python3.10/dist-packages/matplotlib/cbook/__init__.py:1335: ComplexWarning: Casting complex values to real discards the imaginary part\n",
            "  return np.asarray(x, float)\n"
          ]
        },
        {
          "output_type": "execute_result",
          "data": {
            "text/plain": [
              "[<matplotlib.lines.Line2D at 0x7fdd1a726680>]"
            ]
          },
          "metadata": {},
          "execution_count": 16
        },
        {
          "output_type": "display_data",
          "data": {
            "text/plain": [
              "<Figure size 640x480 with 1 Axes>"
            ],
            "image/png": "[encoded data removed]"
          },
          "metadata": {}
        }
      ]
    },
    {
      "cell_type": "markdown",
      "source": [
        "# Let's do it for FMO complex"
      ],
      "metadata": {
        "id": "MaL09S1-1H3m"
      }
    },
    {
      "cell_type": "code",
      "source": [
        "## As the datasize for FMO complex is quite large, we have provided at Zenodo\n",
        "! wget --content-disposition https://zenodo.org/records/13446756/files/training_data.zip?download=1"
      ],
      "metadata": {
        "colab": {
          "base_uri": "https://localhost:8080/"
        },
        "id": "Gf8WMEoWo3g4",
        "outputId": "3119cfc8-239b-4211-f162-054807d84241"
      },
      "execution_count": null,
      "outputs": [
        {
          "output_type": "stream",
          "name": "stdout",
          "text": [
            "--2024-08-29 07:57:31--  https://zenodo.org/records/13446756/files/training_data.zip?download=1\n",
            "Resolving zenodo.org (zenodo.org)... 188.185.79.172, 188.184.103.159, 188.184.98.238, ...\n",
            "Connecting to zenodo.org (zenodo.org)|188.185.79.172|:443... connected.\n",
            "HTTP request sent, awaiting response... 200 OK\n",
            "Length: 380879719 (363M) [application/octet-stream]\n",
            "Saving to: ‘training_data.zip’\n",
            "\n",
            "training_data.zip    22%[===>                ]  82.61M   562KB/s    eta 8m 40s "
          ]
        }
      ]
    },
    {
      "cell_type": "code",
      "source": [
        "! unzip training_data"
      ],
      "metadata": {
        "id": "TR6mpEcYJJkf"
      },
      "execution_count": null,
      "outputs": []
    },
    {
      "cell_type": "code",
      "source": [
        "!ls"
      ],
      "metadata": {
        "id": "rMgX4vZjKPhI"
      },
      "execution_count": null,
      "outputs": []
    },
    {
      "cell_type": "code",
      "source": [
        "# input for MLQD package, more details are given at https://github.com/Arif-PhyChem/MLQD\n",
        "\n",
        "param={\n",
        "    'n_states': 7,\n",
        "      'QDmodel': 'createQDmodel',     # str: create QD model. The dafault option is useQDmodel\n",
        "      'QDmodelType': 'RCDYN',           # str: The type of model. Here KRR and the default option is OSTL\n",
        "      'prepInput' : 'False',           # str: Prepare input files from the data (Default 'False')\n",
        "      'XfileIn': 'training_data/fmo/unconstrained/x',           # str: (Optional) The prepared X file\n",
        "      'YfileIn': 'training_data/fmo/unconstrained/y',           # str: (Optional) The prepared Y file\n",
        "      'hyperParam': 'False',           # str: Default is 'False', we can pass 'True' (optimize the hyperparameters) or 'False' (don't optimize and run with the default values)\n",
        "      'patience': 30,\n",
        "      'OptEpochs': 30,\n",
        "      'TrEpochs': 10,\n",
        "      'max_evals': 30,\n",
        "      'systemType': 'FMO',\n",
        "      'QDmodelOut': 'unconstrained_fmo_model'    # str: (Optional), providing a name to save the model at\n",
        "      }\n",
        "quant_dyn(**param)"
      ],
      "metadata": {
        "colab": {
          "base_uri": "https://localhost:8080/"
        },
        "id": "lPt_88P5dzws",
        "outputId": "cc1ba769-b556-49e8-88f7-df8b88abb683"
      },
      "execution_count": null,
      "outputs": [
        {
          "output_type": "stream",
          "name": "stdout",
          "text": [
            "=================================================================\n",
            "MLQD is a python package developed for Machine Learning-based Quantum Dissipative Dynamics,\n",
            " \t\t\t\t  Version 1.1.1\n",
            "\t\t\t https://github.com/Arif-PhyChem/MLQD\n",
            "\n",
            " \t\t\t Copyright (c) 2023 Arif Ullah\n",
            "\n",
            "All rights reserved. This work is licensed under the Apache Software License 2.0\n",
            "\n",
            "\n",
            "The above copyright notice and this permission notice shall be included \n",
            "in all copies or substantial portions of the Software.\n",
            "\n",
            "\n",
            "The software is provided \"as is\" without warranty of any kind, express or implied, \n",
            "including but not limited to the warranties ofmerchantability, fitness for a particular \n",
            "purpose and noninfringement. In no event shall the authors or copyright holders be \n",
            "liable for any claim, damages or other liability, whether in an action of contract, tort or otherwise, \n",
            "arising from, out of or in connection with the software or the use or other dealings in the software.\n",
            "\n",
            "\n",
            "\t\t\t\t Cite as:\n",
            "\n",
            "1) Ullah A. and Dral P. O., Computer Physics Communications, 2023, 294, 108940\n",
            "2) Ullah A. and Dral P. O., New Journal of Physics, 2021, 23(11), 113019\n",
            "3) Ullah A. and Dral P. O., Nature Communications, 2022, 13(1), 1930\n",
            "4) Ullah A. and Dral P. O., Journal of Physical Chemistry Letters, 2022, 13(26), 6037\n",
            "5) Rodriguez L. E. H.; Ullah A.; Espinosa K. J. R.; Dral P. O. and Kananenka A. A., Machine Learning: Science and Technology, 2022, 3(4), 045016\n",
            "6) Ullah, A., Rodriguez, L. E. H., Dral P. O., and Kananenka, A. A., Frontiers in Physics, 2023, 11, 1223973\n",
            "\n",
            "Contributers List:\n",
            "\n",
            "1) Arif Ullah (main) \n",
            "2) Pavlo O. Dral\n",
            "=================================================================\n",
            "MLQD is started at 2024-06-19 03:34:22.078370\n",
            "=================================================================\n",
            "Setting \"systemType\" to FMO\n",
            "MLQD is running with the option QDmodel =  createQDmodel\n",
            "Setting ML Model Type \"QDmodelType\" to RCDYN\n",
            "Setting number of states \"n_states\" to 7\n",
            "You have chosen not to prepare the input files, othewise you should pass \"True\" to prepInput\n",
            "Model will be saved as unconstrained_fmo_model\n",
            "Xfilein is training_data/fmo/unconstrained/x\n",
            "YfileIn is training_data/fmo/unconstrained/y\n",
            "You have chosen not to optimize the hyper parameters of the model, otherwise you should pass \"True\" to hyperParam\n",
            "=================================================================\n",
            "Setting patience for early stopping to 30\n",
            "Setting number of epochs for training to 10\n",
            "Setting length of x-input \"xlength\" to default value 81\n",
            "Running with the dafault propagation time; time: 50 \n",
            "Running with the dafault time-step: time_step: 0.005\n",
            "Running with default option: pinn=False, training an unconstrained neural network (PINN)\n",
            "Running with default prior option 0 with no trace conservation\n",
            "Setting data column \"dataCol\" to None, full reduced density matrix will be considered\n",
            "=================================================================\n",
            "=================================================================\n",
            "Train.ml_RCDYN: Looking for best_param.pkl\n",
            "=================================================================\n",
            "Train.ml_RCDYN: best_param.pkl not found, thus training CNN model with the default structure\n",
            "=================================================================\n",
            "Data: Checking to see whether the input data files training_data/fmo/unconstrained/x.npy and training_data/fmo/unconstrained/y.npy exist\n",
            "Data: Loading data files training_data/fmo/unconstrained/x.npy and training_data/fmo/unconstrained/y.npy\n",
            "Data: splitting data into sub-training/validation sets with 80/20 % ratio\n",
            "=================================================================\n",
            "cnn.OSTL_default: Running wth EarlyStopping of patience = 30\n",
            "cnn.OSTL_default: Running with batch size = 16 and epochs = 10\n",
            "=================================================================\n"
          ]
        },
        {
          "output_type": "stream",
          "name": "stderr",
          "text": [
            "/usr/local/lib/python3.10/dist-packages/keras/src/layers/convolutional/base_conv.py:107: UserWarning: Do not pass an `input_shape`/`input_dim` argument to a layer. When using Sequential models, prefer using an `Input(shape)` object as the first layer in the model instead.\n",
            "  super().__init__(activity_regularizer=activity_regularizer, **kwargs)\n"
          ]
        },
        {
          "output_type": "stream",
          "name": "stdout",
          "text": [
            "Epoch 1/10\n",
            "3600/3600 - 52s - 14ms/step - loss: 3.0979e-05 - val_loss: 2.8228e-06\n",
            "Epoch 2/10\n",
            "3600/3600 - 78s - 22ms/step - loss: 3.7364e-06 - val_loss: 2.1475e-06\n",
            "Epoch 3/10\n",
            "3600/3600 - 83s - 23ms/step - loss: 2.5100e-06 - val_loss: 1.5264e-06\n",
            "Epoch 4/10\n",
            "3600/3600 - 81s - 23ms/step - loss: 1.9991e-06 - val_loss: 1.5663e-06\n",
            "Epoch 5/10\n",
            "3600/3600 - 46s - 13ms/step - loss: 1.6731e-06 - val_loss: 1.5099e-06\n",
            "Epoch 6/10\n",
            "3600/3600 - 82s - 23ms/step - loss: 1.6569e-06 - val_loss: 9.3250e-07\n",
            "Epoch 7/10\n",
            "3600/3600 - 81s - 23ms/step - loss: 1.2887e-06 - val_loss: 7.3077e-07\n",
            "Epoch 8/10\n",
            "3600/3600 - 46s - 13ms/step - loss: 1.1234e-06 - val_loss: 4.3028e-07\n",
            "Epoch 9/10\n",
            "3600/3600 - 82s - 23ms/step - loss: 1.1393e-06 - val_loss: 1.4813e-06\n",
            "Epoch 10/10\n",
            "3600/3600 - 46s - 13ms/step - loss: 9.5978e-07 - val_loss: 1.1233e-06\n",
            "Restoring model weights from the end of the best epoch: 8.\n",
            "=================================================================\n",
            "cnn.OSTL_default: OSTL model is saved as \" unconstrained_fmo_model.keras \"\n",
            "Train_ml.RCDYN: Time taken for training = 722.4613749980927 sec\n",
            "=================================================================\n",
            "=================================================================\n",
            "MLQD is ended at 2024-06-19 03:46:24.540880\n"
          ]
        },
        {
          "output_type": "execute_result",
          "data": {
            "text/plain": [
              "<evolution.quant_dyn at 0x79bb6986de70>"
            ]
          },
          "metadata": {},
          "execution_count": 8
        }
      ]
    },
    {
      "cell_type": "code",
      "source": [
        "xx = np.load('trace_conservation/test_data/fmo/7_initial-1_gamma-475.0_lambda-10.0_temp-30.0.npy')\n",
        "\n",
        "x = xx[0:41,1:]\n",
        "\n",
        "param={\n",
        "        'n_states': 7,\n",
        "        'time': 2,\n",
        "        'time_step' : 0.005,\n",
        "        'QDmodel': 'useQDmodel',     # str: create QD model. The dafault option is useQDmodel\n",
        "        'QDmodelType': 'RCDYN',           # str: The type of model. Here KRR and the default option is OSTL\n",
        "        'XfileIn': x,           # str: (Optional) The prepared X file will be saved at the provided file name\n",
        "        'cons_trace': 'False',\n",
        "        'systemType': 'FMO', # str: (Not optional) Need to define, wether your model is spin-boson (SB) or FMO complex (FMO)\n",
        "        'QDmodelIn': 'unconstrained_fmo_model.keras',    # str: (Optional), providing a name to save the model at\n",
        "        'QDtrajOut': 'unconstrained_fmo_traj'  # predicted trajectory will be saved with this name\n",
        "      }\n",
        "quant_dyn(**param)\n"
      ],
      "metadata": {
        "id": "H38Pv4bSZzqq",
        "colab": {
          "base_uri": "https://localhost:8080/",
          "height": 1000
        },
        "outputId": "0f05e450-3f1f-4a7f-e8af-48dfb2c84f01"
      },
      "execution_count": null,
      "outputs": [
        {
          "output_type": "stream",
          "name": "stdout",
          "text": [
            "=================================================================\n",
            "MLQD is a python package developed for Machine Learning-based Quantum Dissipative Dynamics,\n",
            " \t\t\t\t  Version 1.1.1\n",
            "\t\t\t https://github.com/Arif-PhyChem/MLQD\n",
            "\n",
            " \t\t\t Copyright (c) 2023 Arif Ullah\n",
            "\n",
            "All rights reserved. This work is licensed under the Apache Software License 2.0\n",
            "\n",
            "\n",
            "The above copyright notice and this permission notice shall be included \n",
            "in all copies or substantial portions of the Software.\n",
            "\n",
            "\n",
            "The software is provided \"as is\" without warranty of any kind, express or implied, \n",
            "including but not limited to the warranties ofmerchantability, fitness for a particular \n",
            "purpose and noninfringement. In no event shall the authors or copyright holders be \n",
            "liable for any claim, damages or other liability, whether in an action of contract, tort or otherwise, \n",
            "arising from, out of or in connection with the software or the use or other dealings in the software.\n",
            "\n",
            "\n",
            "\t\t\t\t Cite as:\n",
            "\n",
            "1) Ullah A. and Dral P. O., Computer Physics Communications, 2023, 294, 108940\n",
            "2) Ullah A. and Dral P. O., New Journal of Physics, 2021, 23(11), 113019\n",
            "3) Ullah A. and Dral P. O., Nature Communications, 2022, 13(1), 1930\n",
            "4) Ullah A. and Dral P. O., Journal of Physical Chemistry Letters, 2022, 13(26), 6037\n",
            "5) Rodriguez L. E. H.; Ullah A.; Espinosa K. J. R.; Dral P. O. and Kananenka A. A., Machine Learning: Science and Technology, 2022, 3(4), 045016\n",
            "6) Ullah, A., Rodriguez, L. E. H., Dral P. O., and Kananenka, A. A., Frontiers in Physics, 2023, 11, 1223973\n",
            "\n",
            "Contributers List:\n",
            "\n",
            "1) Arif Ullah (main) \n",
            "2) Pavlo O. Dral\n",
            "=================================================================\n",
            "MLQD is started at 2024-06-19 03:47:07.894939\n",
            "=================================================================\n",
            "Setting \"systemType\" to FMO\n",
            "MLQD is running with the option QDmodel =  useQDmodel\n",
            "Setting ML Model Type \"QDmodelType\" to RCDYN\n",
            "Setting number of states \"n_states\" to 7\n",
            "Setting propagation time \"time\" to 2\n",
            "Setting time_step to 0.005\n",
            "Using the trained model(s) \"unconstrained_fmo_model.keras\" for dynamics prediction\n",
            "Running with the default value of initial state; initState = 1\n",
            "The input is = [[ 1.00000000e+00+0.00000000e+00j  0.00000000e+00+0.00000000e+00j\n",
            "   0.00000000e+00+0.00000000e+00j ...  0.00000000e+00+0.00000000e+00j\n",
            "   0.00000000e+00+0.00000000e+00j  0.00000000e+00+0.00000000e+00j]\n",
            " [ 9.85544076e-01-1.63039093e-19j  9.46476484e-03-8.02994401e-02j\n",
            "   4.12131006e-03+4.82853296e-03j ... -6.12539757e-05+1.17371759e-05j\n",
            "   1.36934416e-04+4.43575865e-06j  1.86897536e-04-3.01931510e-21j]\n",
            " [ 9.58162888e-01-1.15836321e-18j  2.74525920e-02-1.53889847e-01j\n",
            "   1.07582827e-02+8.71304712e-03j ... -2.27679057e-04+5.67975854e-05j\n",
            "   4.75461956e-04+5.81499230e-05j  5.24895089e-04-2.05129730e-20j]\n",
            " ...\n",
            " [ 6.74675862e-01+5.24233437e-16j  2.08203100e-01-1.71593421e-01j\n",
            "   8.90874933e-02-1.12614613e-02j ...  8.56475850e-04-1.43814914e-03j\n",
            "  -8.23140098e-04-4.01082713e-05j  3.43639931e-03+1.55685003e-17j]\n",
            " [ 6.46074578e-01+5.17480719e-16j  2.29003955e-01-1.73561286e-01j\n",
            "   8.99389076e-02-1.18693042e-02j ...  1.14898194e-03-1.27516995e-03j\n",
            "  -5.85542308e-04-3.12703896e-04j  3.47823355e-03+1.82547069e-17j]\n",
            " [ 6.18286170e-01+4.77582617e-16j  2.49232513e-01-1.68682334e-01j\n",
            "   9.06648594e-02-1.18918741e-02j ...  1.39248082e-03-1.07133670e-03j\n",
            "  -3.32885390e-04-4.41161933e-04j  3.53131710e-03+2.05689413e-17j]]\n",
            "You have chosen not to impose the constraint of trace conservation, otherwise you should pass \"True\" to cons_trace\n",
            "=================================================================\n",
            "Running with default prior option 0 with no trace conservation\n",
            "=================================================================\n"
          ]
        },
        {
          "output_type": "display_data",
          "data": {
            "text/plain": [
              "\u001b[1mModel: \"sequential\"\u001b[0m\n"
            ],
            "text/html": [
              "<pre style=\"white-space:pre;overflow-x:auto;line-height:normal;font-family:Menlo,'DejaVu Sans Mono',consolas,'Courier New',monospace\"><span style=\"font-weight: bold\">Model: \"sequential\"</span>\n",
              "</pre>\n"
            ]
          },
          "metadata": {}
        },
        {
          "output_type": "display_data",
          "data": {
            "text/plain": [
              "┏━━━━━━━━━━━━━━━━━━━━━━━━━━━━━━━━━━━━━━┳━━━━━━━━━━━━━━━━━━━━━━━━━━━━━┳━━━━━━━━━━━━━━━━━┓\n",
              "┃\u001b[1m \u001b[0m\u001b[1mLayer (type)                        \u001b[0m\u001b[1m \u001b[0m┃\u001b[1m \u001b[0m\u001b[1mOutput Shape               \u001b[0m\u001b[1m \u001b[0m┃\u001b[1m \u001b[0m\u001b[1m        Param #\u001b[0m\u001b[1m \u001b[0m┃\n",
              "┡━━━━━━━━━━━━━━━━━━━━━━━━━━━━━━━━━━━━━━╇━━━━━━━━━━━━━━━━━━━━━━━━━━━━━╇━━━━━━━━━━━━━━━━━┩\n",
              "│ conv1d (\u001b[38;5;33mConv1D\u001b[0m)                      │ (\u001b[38;5;45mNone\u001b[0m, \u001b[38;5;34m2007\u001b[0m, \u001b[38;5;34m80\u001b[0m)            │             \u001b[38;5;34m320\u001b[0m │\n",
              "├──────────────────────────────────────┼─────────────────────────────┼─────────────────┤\n",
              "│ conv1d_1 (\u001b[38;5;33mConv1D\u001b[0m)                    │ (\u001b[38;5;45mNone\u001b[0m, \u001b[38;5;34m2007\u001b[0m, \u001b[38;5;34m110\u001b[0m)           │          \u001b[38;5;34m26,510\u001b[0m │\n",
              "├──────────────────────────────────────┼─────────────────────────────┼─────────────────┤\n",
              "│ conv1d_2 (\u001b[38;5;33mConv1D\u001b[0m)                    │ (\u001b[38;5;45mNone\u001b[0m, \u001b[38;5;34m2007\u001b[0m, \u001b[38;5;34m80\u001b[0m)            │          \u001b[38;5;34m26,480\u001b[0m │\n",
              "├──────────────────────────────────────┼─────────────────────────────┼─────────────────┤\n",
              "│ max_pooling1d (\u001b[38;5;33mMaxPooling1D\u001b[0m)         │ (\u001b[38;5;45mNone\u001b[0m, \u001b[38;5;34m1003\u001b[0m, \u001b[38;5;34m80\u001b[0m)            │               \u001b[38;5;34m0\u001b[0m │\n",
              "├──────────────────────────────────────┼─────────────────────────────┼─────────────────┤\n",
              "│ flatten (\u001b[38;5;33mFlatten\u001b[0m)                    │ (\u001b[38;5;45mNone\u001b[0m, \u001b[38;5;34m80240\u001b[0m)               │               \u001b[38;5;34m0\u001b[0m │\n",
              "├──────────────────────────────────────┼─────────────────────────────┼─────────────────┤\n",
              "│ dense (\u001b[38;5;33mDense\u001b[0m)                        │ (\u001b[38;5;45mNone\u001b[0m, \u001b[38;5;34m32\u001b[0m)                  │       \u001b[38;5;34m2,567,712\u001b[0m │\n",
              "├──────────────────────────────────────┼─────────────────────────────┼─────────────────┤\n",
              "│ dense_1 (\u001b[38;5;33mDense\u001b[0m)                      │ (\u001b[38;5;45mNone\u001b[0m, \u001b[38;5;34m128\u001b[0m)                 │           \u001b[38;5;34m4,224\u001b[0m │\n",
              "├──────────────────────────────────────┼─────────────────────────────┼─────────────────┤\n",
              "│ dense_2 (\u001b[38;5;33mDense\u001b[0m)                      │ (\u001b[38;5;45mNone\u001b[0m, \u001b[38;5;34m49\u001b[0m)                  │           \u001b[38;5;34m6,321\u001b[0m │\n",
              "└──────────────────────────────────────┴─────────────────────────────┴─────────────────┘\n"
            ],
            "text/html": [
              "<pre style=\"white-space:pre;overflow-x:auto;line-height:normal;font-family:Menlo,'DejaVu Sans Mono',consolas,'Courier New',monospace\">┏━━━━━━━━━━━━━━━━━━━━━━━━━━━━━━━━━━━━━━┳━━━━━━━━━━━━━━━━━━━━━━━━━━━━━┳━━━━━━━━━━━━━━━━━┓\n",
              "┃<span style=\"font-weight: bold\"> Layer (type)                         </span>┃<span style=\"font-weight: bold\"> Output Shape                </span>┃<span style=\"font-weight: bold\">         Param # </span>┃\n",
              "┡━━━━━━━━━━━━━━━━━━━━━━━━━━━━━━━━━━━━━━╇━━━━━━━━━━━━━━━━━━━━━━━━━━━━━╇━━━━━━━━━━━━━━━━━┩\n",
              "│ conv1d (<span style=\"color: #0087ff; text-decoration-color: #0087ff\">Conv1D</span>)                      │ (<span style=\"color: #00d7ff; text-decoration-color: #00d7ff\">None</span>, <span style=\"color: #00af00; text-decoration-color: #00af00\">2007</span>, <span style=\"color: #00af00; text-decoration-color: #00af00\">80</span>)            │             <span style=\"color: #00af00; text-decoration-color: #00af00\">320</span> │\n",
              "├──────────────────────────────────────┼─────────────────────────────┼─────────────────┤\n",
              "│ conv1d_1 (<span style=\"color: #0087ff; text-decoration-color: #0087ff\">Conv1D</span>)                    │ (<span style=\"color: #00d7ff; text-decoration-color: #00d7ff\">None</span>, <span style=\"color: #00af00; text-decoration-color: #00af00\">2007</span>, <span style=\"color: #00af00; text-decoration-color: #00af00\">110</span>)           │          <span style=\"color: #00af00; text-decoration-color: #00af00\">26,510</span> │\n",
              "├──────────────────────────────────────┼─────────────────────────────┼─────────────────┤\n",
              "│ conv1d_2 (<span style=\"color: #0087ff; text-decoration-color: #0087ff\">Conv1D</span>)                    │ (<span style=\"color: #00d7ff; text-decoration-color: #00d7ff\">None</span>, <span style=\"color: #00af00; text-decoration-color: #00af00\">2007</span>, <span style=\"color: #00af00; text-decoration-color: #00af00\">80</span>)            │          <span style=\"color: #00af00; text-decoration-color: #00af00\">26,480</span> │\n",
              "├──────────────────────────────────────┼─────────────────────────────┼─────────────────┤\n",
              "│ max_pooling1d (<span style=\"color: #0087ff; text-decoration-color: #0087ff\">MaxPooling1D</span>)         │ (<span style=\"color: #00d7ff; text-decoration-color: #00d7ff\">None</span>, <span style=\"color: #00af00; text-decoration-color: #00af00\">1003</span>, <span style=\"color: #00af00; text-decoration-color: #00af00\">80</span>)            │               <span style=\"color: #00af00; text-decoration-color: #00af00\">0</span> │\n",
              "├──────────────────────────────────────┼─────────────────────────────┼─────────────────┤\n",
              "│ flatten (<span style=\"color: #0087ff; text-decoration-color: #0087ff\">Flatten</span>)                    │ (<span style=\"color: #00d7ff; text-decoration-color: #00d7ff\">None</span>, <span style=\"color: #00af00; text-decoration-color: #00af00\">80240</span>)               │               <span style=\"color: #00af00; text-decoration-color: #00af00\">0</span> │\n",
              "├──────────────────────────────────────┼─────────────────────────────┼─────────────────┤\n",
              "│ dense (<span style=\"color: #0087ff; text-decoration-color: #0087ff\">Dense</span>)                        │ (<span style=\"color: #00d7ff; text-decoration-color: #00d7ff\">None</span>, <span style=\"color: #00af00; text-decoration-color: #00af00\">32</span>)                  │       <span style=\"color: #00af00; text-decoration-color: #00af00\">2,567,712</span> │\n",
              "├──────────────────────────────────────┼─────────────────────────────┼─────────────────┤\n",
              "│ dense_1 (<span style=\"color: #0087ff; text-decoration-color: #0087ff\">Dense</span>)                      │ (<span style=\"color: #00d7ff; text-decoration-color: #00d7ff\">None</span>, <span style=\"color: #00af00; text-decoration-color: #00af00\">128</span>)                 │           <span style=\"color: #00af00; text-decoration-color: #00af00\">4,224</span> │\n",
              "├──────────────────────────────────────┼─────────────────────────────┼─────────────────┤\n",
              "│ dense_2 (<span style=\"color: #0087ff; text-decoration-color: #0087ff\">Dense</span>)                      │ (<span style=\"color: #00d7ff; text-decoration-color: #00d7ff\">None</span>, <span style=\"color: #00af00; text-decoration-color: #00af00\">49</span>)                  │           <span style=\"color: #00af00; text-decoration-color: #00af00\">6,321</span> │\n",
              "└──────────────────────────────────────┴─────────────────────────────┴─────────────────┘\n",
              "</pre>\n"
            ]
          },
          "metadata": {}
        },
        {
          "output_type": "display_data",
          "data": {
            "text/plain": [
              "\u001b[1m Total params: \u001b[0m\u001b[38;5;34m2,631,567\u001b[0m (10.04 MB)\n"
            ],
            "text/html": [
              "<pre style=\"white-space:pre;overflow-x:auto;line-height:normal;font-family:Menlo,'DejaVu Sans Mono',consolas,'Courier New',monospace\"><span style=\"font-weight: bold\"> Total params: </span><span style=\"color: #00af00; text-decoration-color: #00af00\">2,631,567</span> (10.04 MB)\n",
              "</pre>\n"
            ]
          },
          "metadata": {}
        },
        {
          "output_type": "display_data",
          "data": {
            "text/plain": [
              "\u001b[1m Trainable params: \u001b[0m\u001b[38;5;34m2,631,567\u001b[0m (10.04 MB)\n"
            ],
            "text/html": [
              "<pre style=\"white-space:pre;overflow-x:auto;line-height:normal;font-family:Menlo,'DejaVu Sans Mono',consolas,'Courier New',monospace\"><span style=\"font-weight: bold\"> Trainable params: </span><span style=\"color: #00af00; text-decoration-color: #00af00\">2,631,567</span> (10.04 MB)\n",
              "</pre>\n"
            ]
          },
          "metadata": {}
        },
        {
          "output_type": "display_data",
          "data": {
            "text/plain": [
              "\u001b[1m Non-trainable params: \u001b[0m\u001b[38;5;34m0\u001b[0m (0.00 B)\n"
            ],
            "text/html": [
              "<pre style=\"white-space:pre;overflow-x:auto;line-height:normal;font-family:Menlo,'DejaVu Sans Mono',consolas,'Courier New',monospace\"><span style=\"font-weight: bold\"> Non-trainable params: </span><span style=\"color: #00af00; text-decoration-color: #00af00\">0</span> (0.00 B)\n",
              "</pre>\n"
            ]
          },
          "metadata": {}
        },
        {
          "output_type": "stream",
          "name": "stdout",
          "text": [
            "ml_dyn.RCDYN: Running recursive dynamics with CNN model......\n",
            "ml_dyn.RCDYN: Dynamics is saved in a file  \"unconstrained_fmo_traj\"\n",
            "ml_dyn.RCDYN: Time taken = 23.168153524398804 sec\n",
            "=================================================================\n",
            "No reference trajectory was provided, so dynamics is not plotted. You can provide reference trajectory with \"refTraj\"\n",
            "=================================================================\n",
            "MLQD is ended at 2024-06-19 03:47:31.353803\n"
          ]
        },
        {
          "output_type": "execute_result",
          "data": {
            "text/plain": [
              "<evolution.quant_dyn at 0x79bc04328e20>"
            ]
          },
          "metadata": {},
          "execution_count": 11
        }
      ]
    },
    {
      "cell_type": "code",
      "source": [
        "# Plot trace vs time\n",
        "\n",
        "x = np.load('unconstrained_fmo_traj.npy')\n",
        "trace = np.real(x[:,1] + x[:,9] + x[:,17] + x[:,25] + x[:,33] + x[:, 41] + x[:,49])\n",
        "\n",
        "plt.plot(x[:,0], trace)"
      ],
      "metadata": {
        "id": "m4TiSj1pVXx0",
        "colab": {
          "base_uri": "https://localhost:8080/",
          "height": 484
        },
        "outputId": "a819979e-f361-47aa-8ff3-a5e266cbf423"
      },
      "execution_count": null,
      "outputs": [
        {
          "output_type": "stream",
          "name": "stderr",
          "text": [
            "/usr/local/lib/python3.10/dist-packages/matplotlib/cbook/__init__.py:1335: ComplexWarning: Casting complex values to real discards the imaginary part\n",
            "  return np.asarray(x, float)\n"
          ]
        },
        {
          "output_type": "execute_result",
          "data": {
            "text/plain": [
              "[<matplotlib.lines.Line2D at 0x79bb258e81c0>]"
            ]
          },
          "metadata": {},
          "execution_count": 14
        },
        {
          "output_type": "display_data",
          "data": {
            "text/plain": [
              "<Figure size 640x480 with 1 Axes>"
            ],
            "image/png": "[encoded data removed]"
          },
          "metadata": {}
        }
      ]
    }
  ]
}